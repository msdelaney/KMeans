{
 "cells": [
  {
   "cell_type": "code",
   "execution_count": 12,
   "id": "425eaaf8",
   "metadata": {},
   "outputs": [],
   "source": [
    "#pip install kneed"
   ]
  },
  {
   "cell_type": "code",
   "execution_count": 2,
   "id": "546018f0",
   "metadata": {},
   "outputs": [],
   "source": [
    "import pandas as pd\n",
    "import numpy as np\n",
    "import matplotlib.pyplot as plt\n",
    "import sea\n",
    "from kneed import KneeLocator\n",
    "from sklearn.datasets import make_blobs\n",
    "from sklearn.cluster import KMeans\n",
    "from sklearn.metrics import silhouette_score\n",
    "from sklearn.preprocessing import StandardScaler\n",
    "from sklearn.decomposition import PCA\n",
    "from mpl_toolkits.mplot3d import Axes3D\n",
    "import seaborn as sns\n",
    "from sklearn.compose import ColumnTransformer\n",
    "from sklearn.pipeline import Pipeline\n",
    "from sklearn.impute import KNNImputer\n",
    "from sklearn.preprocessing import FunctionTransformer\n",
    "from sklearn.preprocessing import Normalizer"
   ]
  },
  {
   "cell_type": "code",
   "execution_count": 3,
   "id": "b62474d7",
   "metadata": {},
   "outputs": [],
   "source": [
    "df = pd.read_csv('Mall_Customers.csv')"
   ]
  },
  {
   "cell_type": "code",
   "execution_count": 4,
   "id": "db9b5f41",
   "metadata": {},
   "outputs": [
    {
     "data": {
      "text/html": [
       "<div>\n",
       "<style scoped>\n",
       "    .dataframe tbody tr th:only-of-type {\n",
       "        vertical-align: middle;\n",
       "    }\n",
       "\n",
       "    .dataframe tbody tr th {\n",
       "        vertical-align: top;\n",
       "    }\n",
       "\n",
       "    .dataframe thead th {\n",
       "        text-align: right;\n",
       "    }\n",
       "</style>\n",
       "<table border=\"1\" class=\"dataframe\">\n",
       "  <thead>\n",
       "    <tr style=\"text-align: right;\">\n",
       "      <th></th>\n",
       "      <th>CustomerID</th>\n",
       "      <th>Gender</th>\n",
       "      <th>Age</th>\n",
       "      <th>Annual Income (k$)</th>\n",
       "      <th>Spending Score (1-100)</th>\n",
       "    </tr>\n",
       "  </thead>\n",
       "  <tbody>\n",
       "    <tr>\n",
       "      <th>0</th>\n",
       "      <td>1</td>\n",
       "      <td>Male</td>\n",
       "      <td>19</td>\n",
       "      <td>15</td>\n",
       "      <td>39</td>\n",
       "    </tr>\n",
       "    <tr>\n",
       "      <th>1</th>\n",
       "      <td>2</td>\n",
       "      <td>Male</td>\n",
       "      <td>21</td>\n",
       "      <td>15</td>\n",
       "      <td>81</td>\n",
       "    </tr>\n",
       "    <tr>\n",
       "      <th>2</th>\n",
       "      <td>3</td>\n",
       "      <td>Female</td>\n",
       "      <td>20</td>\n",
       "      <td>16</td>\n",
       "      <td>6</td>\n",
       "    </tr>\n",
       "    <tr>\n",
       "      <th>3</th>\n",
       "      <td>4</td>\n",
       "      <td>Female</td>\n",
       "      <td>23</td>\n",
       "      <td>16</td>\n",
       "      <td>77</td>\n",
       "    </tr>\n",
       "    <tr>\n",
       "      <th>4</th>\n",
       "      <td>5</td>\n",
       "      <td>Female</td>\n",
       "      <td>31</td>\n",
       "      <td>17</td>\n",
       "      <td>40</td>\n",
       "    </tr>\n",
       "  </tbody>\n",
       "</table>\n",
       "</div>"
      ],
      "text/plain": [
       "   CustomerID  Gender  Age  Annual Income (k$)  Spending Score (1-100)\n",
       "0           1    Male   19                  15                      39\n",
       "1           2    Male   21                  15                      81\n",
       "2           3  Female   20                  16                       6\n",
       "3           4  Female   23                  16                      77\n",
       "4           5  Female   31                  17                      40"
      ]
     },
     "execution_count": 4,
     "metadata": {},
     "output_type": "execute_result"
    }
   ],
   "source": [
    "df.head()"
   ]
  },
  {
   "cell_type": "code",
   "execution_count": 5,
   "id": "f3c48650",
   "metadata": {},
   "outputs": [
    {
     "data": {
      "text/html": [
       "<div>\n",
       "<style scoped>\n",
       "    .dataframe tbody tr th:only-of-type {\n",
       "        vertical-align: middle;\n",
       "    }\n",
       "\n",
       "    .dataframe tbody tr th {\n",
       "        vertical-align: top;\n",
       "    }\n",
       "\n",
       "    .dataframe thead th {\n",
       "        text-align: right;\n",
       "    }\n",
       "</style>\n",
       "<table border=\"1\" class=\"dataframe\">\n",
       "  <thead>\n",
       "    <tr style=\"text-align: right;\">\n",
       "      <th></th>\n",
       "      <th>Annual Income (k$)</th>\n",
       "      <th>Age</th>\n",
       "      <th>Spending Score (1-100)</th>\n",
       "    </tr>\n",
       "  </thead>\n",
       "  <tbody>\n",
       "    <tr>\n",
       "      <th>0</th>\n",
       "      <td>-1.738999</td>\n",
       "      <td>-1.424569</td>\n",
       "      <td>-0.434801</td>\n",
       "    </tr>\n",
       "    <tr>\n",
       "      <th>1</th>\n",
       "      <td>-1.738999</td>\n",
       "      <td>-1.281035</td>\n",
       "      <td>1.195704</td>\n",
       "    </tr>\n",
       "    <tr>\n",
       "      <th>2</th>\n",
       "      <td>-1.700830</td>\n",
       "      <td>-1.352802</td>\n",
       "      <td>-1.715913</td>\n",
       "    </tr>\n",
       "    <tr>\n",
       "      <th>3</th>\n",
       "      <td>-1.700830</td>\n",
       "      <td>-1.137502</td>\n",
       "      <td>1.040418</td>\n",
       "    </tr>\n",
       "    <tr>\n",
       "      <th>4</th>\n",
       "      <td>-1.662660</td>\n",
       "      <td>-0.563369</td>\n",
       "      <td>-0.395980</td>\n",
       "    </tr>\n",
       "  </tbody>\n",
       "</table>\n",
       "</div>"
      ],
      "text/plain": [
       "   Annual Income (k$)       Age  Spending Score (1-100)\n",
       "0           -1.738999 -1.424569               -0.434801\n",
       "1           -1.738999 -1.281035                1.195704\n",
       "2           -1.700830 -1.352802               -1.715913\n",
       "3           -1.700830 -1.137502                1.040418\n",
       "4           -1.662660 -0.563369               -0.395980"
      ]
     },
     "execution_count": 5,
     "metadata": {},
     "output_type": "execute_result"
    }
   ],
   "source": [
    "col_names = ['Annual Income (k$)', 'Age', 'Spending Score (1-100)']\n",
    "\n",
    "#income is generally skew which is bad for KNN, well log transform to reduce skew\n",
    "#df['Annual Income (k$)'] = np.log(df['Annual Income (k$)'])\n",
    "\n",
    "\n",
    "features = df[col_names]\n",
    "scaler = StandardScaler().fit(features.values)\n",
    "features = scaler.transform(features.values)\n",
    "scaled_features = pd.DataFrame(features, columns = col_names)\n",
    "scaled_features.head()\n"
   ]
  },
  {
   "cell_type": "code",
   "execution_count": 6,
   "id": "098c8e24",
   "metadata": {},
   "outputs": [
    {
     "data": {
      "text/plain": [
       "array([[-1.73899919, -1.42456879, -0.43480148],\n",
       "       [-1.73899919, -1.28103541,  1.19570407],\n",
       "       [-1.70082976, -1.3528021 , -1.71591298],\n",
       "       [-1.70082976, -1.13750203,  1.04041783],\n",
       "       [-1.66266033, -0.56336851, -0.39597992],\n",
       "       [-1.66266033, -1.20926872,  1.00159627],\n",
       "       [-1.62449091, -0.27630176, -1.71591298],\n",
       "       [-1.62449091, -1.13750203,  1.70038436],\n",
       "       [-1.58632148,  1.80493225, -1.83237767],\n",
       "       [-1.58632148, -0.6351352 ,  0.84631002],\n",
       "       [-1.58632148,  2.02023231, -1.4053405 ],\n",
       "       [-1.58632148, -0.27630176,  1.89449216],\n",
       "       [-1.54815205,  1.37433211, -1.36651894],\n",
       "       [-1.54815205, -1.06573534,  1.04041783],\n",
       "       [-1.54815205, -0.13276838, -1.44416206],\n",
       "       [-1.54815205, -1.20926872,  1.11806095],\n",
       "       [-1.50998262, -0.27630176, -0.59008772],\n",
       "       [-1.50998262, -1.3528021 ,  0.61338066],\n",
       "       [-1.43364376,  0.94373197, -0.82301709],\n",
       "       [-1.43364376, -0.27630176,  1.8556706 ],\n",
       "       [-1.39547433, -0.27630176, -0.59008772],\n",
       "       [-1.39547433, -0.99396865,  0.88513158],\n",
       "       [-1.3573049 ,  0.51313183, -1.75473454],\n",
       "       [-1.3573049 , -0.56336851,  0.88513158],\n",
       "       [-1.24279661,  1.08726535, -1.4053405 ],\n",
       "       [-1.24279661, -0.70690189,  1.23452563],\n",
       "       [-1.24279661,  0.44136514, -0.7065524 ],\n",
       "       [-1.24279661, -0.27630176,  0.41927286],\n",
       "       [-1.20462718,  0.08253169, -0.74537397],\n",
       "       [-1.20462718, -1.13750203,  1.42863343],\n",
       "       [-1.16645776,  1.51786549, -1.7935561 ],\n",
       "       [-1.16645776, -1.28103541,  0.88513158],\n",
       "       [-1.05194947,  1.01549866, -1.7935561 ],\n",
       "       [-1.05194947, -1.49633548,  1.62274124],\n",
       "       [-1.05194947,  0.7284319 , -1.4053405 ],\n",
       "       [-1.05194947, -1.28103541,  1.19570407],\n",
       "       [-1.01378004,  0.22606507, -1.28887582],\n",
       "       [-1.01378004, -0.6351352 ,  0.88513158],\n",
       "       [-0.89927175, -0.20453507, -0.93948177],\n",
       "       [-0.89927175, -1.3528021 ,  0.96277471],\n",
       "       [-0.86110232,  1.87669894, -0.59008772],\n",
       "       [-0.86110232, -1.06573534,  1.62274124],\n",
       "       [-0.82293289,  0.65666521, -0.55126616],\n",
       "       [-0.82293289, -0.56336851,  0.41927286],\n",
       "       [-0.82293289,  0.7284319 , -0.86183865],\n",
       "       [-0.82293289, -1.06573534,  0.5745591 ],\n",
       "       [-0.78476346,  0.80019859,  0.18634349],\n",
       "       [-0.78476346, -0.85043527, -0.12422899],\n",
       "       [-0.78476346, -0.70690189, -0.3183368 ],\n",
       "       [-0.78476346, -0.56336851, -0.3183368 ],\n",
       "       [-0.70842461,  0.7284319 ,  0.06987881],\n",
       "       [-0.70842461, -0.41983513,  0.38045129],\n",
       "       [-0.67025518, -0.56336851,  0.14752193],\n",
       "       [-0.67025518,  1.4460988 ,  0.38045129],\n",
       "       [-0.67025518,  0.80019859, -0.20187212],\n",
       "       [-0.67025518,  0.58489852, -0.35715836],\n",
       "       [-0.63208575,  0.87196528, -0.00776431],\n",
       "       [-0.63208575,  2.16376569, -0.16305055],\n",
       "       [-0.55574689, -0.85043527,  0.03105725],\n",
       "       [-0.55574689,  1.01549866, -0.16305055],\n",
       "       [-0.55574689,  2.23553238,  0.22516505],\n",
       "       [-0.55574689, -1.42456879,  0.18634349],\n",
       "       [-0.51757746,  2.02023231,  0.06987881],\n",
       "       [-0.51757746,  1.08726535,  0.34162973],\n",
       "       [-0.47940803,  1.73316556,  0.03105725],\n",
       "       [-0.47940803, -1.49633548,  0.34162973],\n",
       "       [-0.47940803,  0.29783176, -0.00776431],\n",
       "       [-0.47940803,  2.091999  , -0.08540743],\n",
       "       [-0.47940803, -1.42456879,  0.34162973],\n",
       "       [-0.47940803, -0.49160182, -0.12422899],\n",
       "       [-0.4412386 ,  2.23553238,  0.18634349],\n",
       "       [-0.4412386 ,  0.58489852, -0.3183368 ],\n",
       "       [-0.40306917,  1.51786549, -0.04658587],\n",
       "       [-0.40306917,  1.51786549,  0.22516505],\n",
       "       [-0.25039146,  1.4460988 , -0.12422899],\n",
       "       [-0.25039146, -0.92220196,  0.14752193],\n",
       "       [-0.25039146,  0.44136514,  0.10870037],\n",
       "       [-0.25039146,  0.08253169, -0.08540743],\n",
       "       [-0.25039146, -1.13750203,  0.06987881],\n",
       "       [-0.25039146,  0.7284319 , -0.3183368 ],\n",
       "       [-0.25039146,  1.30256542,  0.03105725],\n",
       "       [-0.25039146, -0.06100169,  0.18634349],\n",
       "       [-0.25039146,  2.02023231, -0.35715836],\n",
       "       [-0.25039146,  0.51313183, -0.24069368],\n",
       "       [-0.25039146, -1.28103541,  0.26398661],\n",
       "       [-0.25039146,  0.65666521, -0.16305055],\n",
       "       [-0.13588317,  1.15903204,  0.30280817],\n",
       "       [-0.13588317, -1.20926872,  0.18634349],\n",
       "       [-0.09771374, -0.34806844,  0.38045129],\n",
       "       [-0.09771374,  0.80019859, -0.16305055],\n",
       "       [-0.05954431,  2.091999  ,  0.18634349],\n",
       "       [-0.05954431, -1.49633548, -0.35715836],\n",
       "       [-0.02137488,  0.65666521, -0.04658587],\n",
       "       [-0.02137488,  0.08253169, -0.39597992],\n",
       "       [-0.02137488, -0.49160182, -0.3183368 ],\n",
       "       [-0.02137488, -1.06573534,  0.06987881],\n",
       "       [-0.02137488,  0.58489852, -0.12422899],\n",
       "       [-0.02137488, -0.85043527, -0.00776431],\n",
       "       [ 0.01679455,  0.65666521, -0.3183368 ],\n",
       "       [ 0.01679455, -1.3528021 , -0.04658587],\n",
       "       [ 0.05496398, -1.13750203, -0.35715836],\n",
       "       [ 0.05496398,  0.7284319 , -0.08540743],\n",
       "       [ 0.05496398,  2.02023231,  0.34162973],\n",
       "       [ 0.05496398, -0.92220196,  0.18634349],\n",
       "       [ 0.05496398,  0.7284319 ,  0.22516505],\n",
       "       [ 0.05496398, -1.28103541, -0.3183368 ],\n",
       "       [ 0.09313341,  1.94846562, -0.00776431],\n",
       "       [ 0.09313341,  1.08726535, -0.16305055],\n",
       "       [ 0.09313341,  2.091999  , -0.27951524],\n",
       "       [ 0.09313341,  1.94846562, -0.08540743],\n",
       "       [ 0.09313341,  1.87669894,  0.06987881],\n",
       "       [ 0.09313341, -1.42456879,  0.14752193],\n",
       "       [ 0.13130284, -0.06100169, -0.3183368 ],\n",
       "       [ 0.13130284, -1.42456879, -0.16305055],\n",
       "       [ 0.16947227, -1.49633548, -0.08540743],\n",
       "       [ 0.16947227, -1.42456879, -0.00776431],\n",
       "       [ 0.16947227,  1.73316556, -0.27951524],\n",
       "       [ 0.16947227,  0.7284319 ,  0.34162973],\n",
       "       [ 0.24581112,  0.87196528, -0.27951524],\n",
       "       [ 0.24581112,  0.80019859,  0.26398661],\n",
       "       [ 0.24581112, -0.85043527,  0.22516505],\n",
       "       [ 0.24581112, -0.06100169, -0.39597992],\n",
       "       [ 0.32214998,  0.08253169,  0.30280817],\n",
       "       [ 0.32214998,  0.010765  ,  1.58391968],\n",
       "       [ 0.36031941, -1.13750203, -0.82301709],\n",
       "       [ 0.36031941, -0.56336851,  1.04041783],\n",
       "       [ 0.39848884,  0.29783176, -0.59008772],\n",
       "       [ 0.39848884,  0.08253169,  1.73920592],\n",
       "       [ 0.39848884,  1.4460988 , -1.52180518],\n",
       "       [ 0.39848884, -0.06100169,  0.96277471],\n",
       "       [ 0.39848884,  0.58489852, -1.5994483 ],\n",
       "       [ 0.39848884,  0.010765  ,  0.96277471],\n",
       "       [ 0.43665827, -0.99396865, -0.62890928],\n",
       "       [ 0.43665827, -0.56336851,  0.80748846],\n",
       "       [ 0.4748277 , -1.3528021 , -1.75473454],\n",
       "       [ 0.4748277 , -0.70690189,  1.46745499],\n",
       "       [ 0.4748277 ,  0.36959845, -1.67709142],\n",
       "       [ 0.4748277 , -0.49160182,  0.88513158],\n",
       "       [ 0.51299713, -1.42456879, -1.56062674],\n",
       "       [ 0.51299713, -0.27630176,  0.84631002],\n",
       "       [ 0.55116656,  1.30256542, -1.75473454],\n",
       "       [ 0.55116656, -0.49160182,  1.6615628 ],\n",
       "       [ 0.58933599, -0.77866858, -0.39597992],\n",
       "       [ 0.58933599, -0.49160182,  1.42863343],\n",
       "       [ 0.62750542, -0.99396865, -1.48298362],\n",
       "       [ 0.62750542, -0.77866858,  1.81684904],\n",
       "       [ 0.62750542,  0.65666521, -0.55126616],\n",
       "       [ 0.62750542, -0.49160182,  0.92395314],\n",
       "       [ 0.66567484, -0.34806844, -1.09476801],\n",
       "       [ 0.66567484, -0.34806844,  1.54509812],\n",
       "       [ 0.66567484,  0.29783176, -1.28887582],\n",
       "       [ 0.66567484,  0.010765  ,  1.46745499],\n",
       "       [ 0.66567484,  0.36959845, -1.17241113],\n",
       "       [ 0.66567484, -0.06100169,  1.00159627],\n",
       "       [ 0.66567484,  0.58489852, -1.32769738],\n",
       "       [ 0.66567484, -0.85043527,  1.50627656],\n",
       "       [ 0.66567484, -0.13276838, -1.91002079],\n",
       "       [ 0.66567484, -0.6351352 ,  1.07923939],\n",
       "       [ 0.66567484, -0.34806844, -1.91002079],\n",
       "       [ 0.66567484, -0.6351352 ,  0.88513158],\n",
       "       [ 0.70384427,  1.23079873, -0.59008772],\n",
       "       [ 0.70384427, -0.70690189,  1.27334719],\n",
       "       [ 0.78018313, -1.42456879, -1.75473454],\n",
       "       [ 0.78018313, -0.56336851,  1.6615628 ],\n",
       "       [ 0.93286085,  0.80019859, -0.93948177],\n",
       "       [ 0.93286085, -0.20453507,  0.96277471],\n",
       "       [ 0.97103028,  0.22606507, -1.17241113],\n",
       "       [ 0.97103028, -0.41983513,  1.73920592],\n",
       "       [ 1.00919971, -0.20453507, -0.90066021],\n",
       "       [ 1.00919971, -0.49160182,  0.49691598],\n",
       "       [ 1.00919971,  0.08253169, -1.44416206],\n",
       "       [ 1.00919971, -0.77866858,  0.96277471],\n",
       "       [ 1.00919971, -0.20453507, -1.56062674],\n",
       "       [ 1.00919971, -0.20453507,  1.62274124],\n",
       "       [ 1.04736914,  0.94373197, -1.44416206],\n",
       "       [ 1.04736914, -0.6351352 ,  1.38981187],\n",
       "       [ 1.04736914,  1.37433211, -1.36651894],\n",
       "       [ 1.04736914, -0.85043527,  0.72984534],\n",
       "       [ 1.23821628,  1.4460988 , -1.4053405 ],\n",
       "       [ 1.23821628, -0.27630176,  1.54509812],\n",
       "       [ 1.390894  , -0.13276838, -0.7065524 ],\n",
       "       [ 1.390894  , -0.49160182,  1.38981187],\n",
       "       [ 1.42906343,  0.51313183, -1.36651894],\n",
       "       [ 1.42906343, -0.70690189,  1.46745499],\n",
       "       [ 1.46723286,  0.15429838, -0.43480148],\n",
       "       [ 1.46723286, -0.6351352 ,  1.81684904],\n",
       "       [ 1.54357172,  1.08726535, -1.01712489],\n",
       "       [ 1.54357172, -0.77866858,  0.69102378],\n",
       "       [ 1.61991057,  0.15429838, -1.28887582],\n",
       "       [ 1.61991057, -0.20453507,  1.35099031],\n",
       "       [ 1.61991057, -0.34806844, -1.05594645],\n",
       "       [ 1.61991057, -0.49160182,  0.72984534],\n",
       "       [ 2.00160487, -0.41983513, -1.63826986],\n",
       "       [ 2.00160487, -0.06100169,  1.58391968],\n",
       "       [ 2.26879087,  0.58489852, -1.32769738],\n",
       "       [ 2.26879087, -0.27630176,  1.11806095],\n",
       "       [ 2.49780745,  0.44136514, -0.86183865],\n",
       "       [ 2.49780745, -0.49160182,  0.92395314],\n",
       "       [ 2.91767117, -0.49160182, -1.25005425],\n",
       "       [ 2.91767117, -0.6351352 ,  1.27334719]])"
      ]
     },
     "execution_count": 6,
     "metadata": {},
     "output_type": "execute_result"
    }
   ],
   "source": [
    "features"
   ]
  },
  {
   "cell_type": "code",
   "execution_count": 7,
   "id": "ffc5be66",
   "metadata": {},
   "outputs": [
    {
     "data": {
      "text/html": [
       "<div>\n",
       "<style scoped>\n",
       "    .dataframe tbody tr th:only-of-type {\n",
       "        vertical-align: middle;\n",
       "    }\n",
       "\n",
       "    .dataframe tbody tr th {\n",
       "        vertical-align: top;\n",
       "    }\n",
       "\n",
       "    .dataframe thead th {\n",
       "        text-align: right;\n",
       "    }\n",
       "</style>\n",
       "<table border=\"1\" class=\"dataframe\">\n",
       "  <thead>\n",
       "    <tr style=\"text-align: right;\">\n",
       "      <th></th>\n",
       "      <th>Annual Income (k$)</th>\n",
       "      <th>Age</th>\n",
       "      <th>Spending Score (1-100)</th>\n",
       "      <th>Gender_Female</th>\n",
       "    </tr>\n",
       "  </thead>\n",
       "  <tbody>\n",
       "    <tr>\n",
       "      <th>0</th>\n",
       "      <td>-1.738999</td>\n",
       "      <td>-1.424569</td>\n",
       "      <td>-0.434801</td>\n",
       "      <td>0</td>\n",
       "    </tr>\n",
       "    <tr>\n",
       "      <th>1</th>\n",
       "      <td>-1.738999</td>\n",
       "      <td>-1.281035</td>\n",
       "      <td>1.195704</td>\n",
       "      <td>0</td>\n",
       "    </tr>\n",
       "    <tr>\n",
       "      <th>2</th>\n",
       "      <td>-1.700830</td>\n",
       "      <td>-1.352802</td>\n",
       "      <td>-1.715913</td>\n",
       "      <td>1</td>\n",
       "    </tr>\n",
       "    <tr>\n",
       "      <th>3</th>\n",
       "      <td>-1.700830</td>\n",
       "      <td>-1.137502</td>\n",
       "      <td>1.040418</td>\n",
       "      <td>1</td>\n",
       "    </tr>\n",
       "    <tr>\n",
       "      <th>4</th>\n",
       "      <td>-1.662660</td>\n",
       "      <td>-0.563369</td>\n",
       "      <td>-0.395980</td>\n",
       "      <td>1</td>\n",
       "    </tr>\n",
       "  </tbody>\n",
       "</table>\n",
       "</div>"
      ],
      "text/plain": [
       "   Annual Income (k$)       Age  Spending Score (1-100)  Gender_Female\n",
       "0           -1.738999 -1.424569               -0.434801              0\n",
       "1           -1.738999 -1.281035                1.195704              0\n",
       "2           -1.700830 -1.352802               -1.715913              1\n",
       "3           -1.700830 -1.137502                1.040418              1\n",
       "4           -1.662660 -0.563369               -0.395980              1"
      ]
     },
     "execution_count": 7,
     "metadata": {},
     "output_type": "execute_result"
    }
   ],
   "source": [
    "gender = df['Gender']\n",
    "newdf = scaled_features.join(gender)\n",
    "\n",
    "newdf = pd.get_dummies(newdf, prefix=None, prefix_sep='_', dummy_na=False, columns=None, sparse=False, drop_first=False, dtype=None)\n",
    "\n",
    "newdf = newdf.drop(['Gender_Male'],axis=1)\n",
    "\n",
    "newdf.head()"
   ]
  },
  {
   "cell_type": "code",
   "execution_count": 8,
   "id": "47fe275c",
   "metadata": {},
   "outputs": [
    {
     "name": "stderr",
     "output_type": "stream",
     "text": [
      "C:\\Users\\mdelan02\\Anaconda3\\lib\\site-packages\\sklearn\\cluster\\_kmeans.py:881: UserWarning: KMeans is known to have a memory leak on Windows with MKL, when there are less chunks than available threads. You can avoid it by setting the environment variable OMP_NUM_THREADS=1.\n",
      "  warnings.warn(\n"
     ]
    },
    {
     "data": {
      "text/plain": [
       "Text(0, 0.5, 'Inertia')"
      ]
     },
     "execution_count": 8,
     "metadata": {},
     "output_type": "execute_result"
    },
    {
     "data": {
      "image/png": "[encoded data removed]",
      "text/plain": [
       "<Figure size 864x432 with 1 Axes>"
      ]
     },
     "metadata": {
      "needs_background": "light"
     },
     "output_type": "display_data"
    }
   ],
   "source": [
    "SSE = []\n",
    "\n",
    "for cluster in range(1,10):\n",
    "    kmeans = KMeans(n_clusters = cluster, init='k-means++')\n",
    "    kmeans.fit(newdf)\n",
    "    SSE.append(kmeans.inertia_)\n",
    "\n",
    "# converting the results into a dataframe and plotting them\n",
    "#plotting to find the elbow of the figure which is the optimal # of clusters\n",
    "\n",
    "frame = pd.DataFrame({'Cluster':range(1,10), 'SSE':SSE})\n",
    "plt.figure(figsize=(12,6))\n",
    "plt.plot(frame['Cluster'], frame['SSE'], marker='o')\n",
    "plt.xlabel('Number of clusters')\n",
    "plt.ylabel('Inertia')"
   ]
  },
  {
   "cell_type": "code",
   "execution_count": 9,
   "id": "accb182f",
   "metadata": {},
   "outputs": [
    {
     "data": {
      "text/plain": [
       "4"
      ]
     },
     "execution_count": 9,
     "metadata": {},
     "output_type": "execute_result"
    }
   ],
   "source": [
    "#function to find knees if visual is difficult\n",
    "kneecheck = KneeLocator(frame['Cluster'],frame['SSE'],curve ='convex',direction='decreasing')\n",
    "\n",
    "kneecheck.knee"
   ]
  },
  {
   "cell_type": "code",
   "execution_count": 10,
   "id": "55310426",
   "metadata": {},
   "outputs": [
    {
     "name": "stdout",
     "output_type": "stream",
     "text": [
      "0.35027020434653977\n"
     ]
    }
   ],
   "source": [
    "#Finding the silhouette score\n",
    "newdf = newdf.drop(['label'], axis=1, errors='ignore')\n",
    "kmeans = KMeans(n_clusters = 4, init='k-means++')\n",
    "kmeans.fit(newdf)\n",
    "\n",
    "#print the silhouette score of this model (-1 to 1, 1 being highest)\n",
    "\n",
    "print(silhouette_score(newdf, kmeans.labels_, metric='euclidean'))"
   ]
  },
  {
   "cell_type": "code",
   "execution_count": 11,
   "id": "70decd29",
   "metadata": {},
   "outputs": [],
   "source": [
    "#get labels\n",
    "newdf = newdf.drop(['label'], axis=1, errors='ignore')\n",
    "clusters = kmeans.fit_predict(newdf.iloc[:,0:])\n",
    "newdf[\"label\"] = clusters"
   ]
  },
  {
   "cell_type": "code",
   "execution_count": 12,
   "id": "11a38f6d",
   "metadata": {},
   "outputs": [
    {
     "data": {
      "text/plain": [
       "{0, 1, 2, 3}"
      ]
     },
     "execution_count": 12,
     "metadata": {},
     "output_type": "execute_result"
    }
   ],
   "source": [
    "set(newdf['label'])"
   ]
  },
  {
   "cell_type": "code",
   "execution_count": 13,
   "id": "ef649d82",
   "metadata": {},
   "outputs": [
    {
     "data": {
      "image/png": "[encoded data removed]",
      "text/plain": [
       "<Figure size 1512x720 with 1 Axes>"
      ]
     },
     "metadata": {
      "needs_background": "light"
     },
     "output_type": "display_data"
    }
   ],
   "source": [
    "fig = plt.figure(figsize=(21,10))\n",
    "ax = fig.add_subplot(111, projection='3d')\n",
    "ax.scatter(newdf.Age[newdf.label == 0], newdf[\"Annual Income (k$)\"][newdf.label == 0], newdf[\"Spending Score (1-100)\"][newdf.label == 0], c='blue', s=60)\n",
    "\n",
    "ax.scatter(newdf.Age[newdf.label == 1], newdf[\"Annual Income (k$)\"][newdf.label == 1], newdf[\"Spending Score (1-100)\"][newdf.label == 1], c='red', s=60)\n",
    "ax.scatter(newdf.Age[newdf.label == 2], newdf[\"Annual Income (k$)\"][newdf.label == 2], newdf[\"Spending Score (1-100)\"][newdf.label == 2], c='green', s=60)\n",
    "ax.scatter(newdf.Age[newdf.label == 3], newdf[\"Annual Income (k$)\"][newdf.label == 3], newdf[\"Spending Score (1-100)\"][newdf.label == 3], c='orange', s=60)\n",
    "\n",
    "ax.view_init(30, 185)\n",
    "plt.show()"
   ]
  },
  {
   "cell_type": "code",
   "execution_count": 14,
   "id": "6da8e481",
   "metadata": {},
   "outputs": [
    {
     "data": {
      "text/html": [
       "<div>\n",
       "<style scoped>\n",
       "    .dataframe tbody tr th:only-of-type {\n",
       "        vertical-align: middle;\n",
       "    }\n",
       "\n",
       "    .dataframe tbody tr th {\n",
       "        vertical-align: top;\n",
       "    }\n",
       "\n",
       "    .dataframe thead th {\n",
       "        text-align: right;\n",
       "    }\n",
       "</style>\n",
       "<table border=\"1\" class=\"dataframe\">\n",
       "  <thead>\n",
       "    <tr style=\"text-align: right;\">\n",
       "      <th></th>\n",
       "      <th>Annual Income (k$)</th>\n",
       "      <th>Age</th>\n",
       "      <th>Spending Score (1-100)</th>\n",
       "      <th>Gender_Female</th>\n",
       "      <th>label</th>\n",
       "    </tr>\n",
       "  </thead>\n",
       "  <tbody>\n",
       "    <tr>\n",
       "      <th>0</th>\n",
       "      <td>-1.738999</td>\n",
       "      <td>-1.424569</td>\n",
       "      <td>-0.434801</td>\n",
       "      <td>0</td>\n",
       "      <td>1</td>\n",
       "    </tr>\n",
       "    <tr>\n",
       "      <th>1</th>\n",
       "      <td>-1.738999</td>\n",
       "      <td>-1.281035</td>\n",
       "      <td>1.195704</td>\n",
       "      <td>0</td>\n",
       "      <td>1</td>\n",
       "    </tr>\n",
       "    <tr>\n",
       "      <th>2</th>\n",
       "      <td>-1.700830</td>\n",
       "      <td>-1.352802</td>\n",
       "      <td>-1.715913</td>\n",
       "      <td>1</td>\n",
       "      <td>1</td>\n",
       "    </tr>\n",
       "    <tr>\n",
       "      <th>3</th>\n",
       "      <td>-1.700830</td>\n",
       "      <td>-1.137502</td>\n",
       "      <td>1.040418</td>\n",
       "      <td>1</td>\n",
       "      <td>1</td>\n",
       "    </tr>\n",
       "    <tr>\n",
       "      <th>4</th>\n",
       "      <td>-1.662660</td>\n",
       "      <td>-0.563369</td>\n",
       "      <td>-0.395980</td>\n",
       "      <td>1</td>\n",
       "      <td>1</td>\n",
       "    </tr>\n",
       "  </tbody>\n",
       "</table>\n",
       "</div>"
      ],
      "text/plain": [
       "   Annual Income (k$)       Age  Spending Score (1-100)  Gender_Female  label\n",
       "0           -1.738999 -1.424569               -0.434801              0      1\n",
       "1           -1.738999 -1.281035                1.195704              0      1\n",
       "2           -1.700830 -1.352802               -1.715913              1      1\n",
       "3           -1.700830 -1.137502                1.040418              1      1\n",
       "4           -1.662660 -0.563369               -0.395980              1      1"
      ]
     },
     "execution_count": 14,
     "metadata": {},
     "output_type": "execute_result"
    }
   ],
   "source": [
    "newdf.head()"
   ]
  },
  {
   "cell_type": "code",
   "execution_count": 18,
   "id": "4b5bdabb",
   "metadata": {},
   "outputs": [
    {
     "data": {
      "text/html": [
       "<div>\n",
       "<style scoped>\n",
       "    .dataframe tbody tr th:only-of-type {\n",
       "        vertical-align: middle;\n",
       "    }\n",
       "\n",
       "    .dataframe tbody tr th {\n",
       "        vertical-align: top;\n",
       "    }\n",
       "\n",
       "    .dataframe thead th {\n",
       "        text-align: right;\n",
       "    }\n",
       "</style>\n",
       "<table border=\"1\" class=\"dataframe\">\n",
       "  <thead>\n",
       "    <tr style=\"text-align: right;\">\n",
       "      <th></th>\n",
       "      <th>Annual Income (k$)</th>\n",
       "      <th>Age</th>\n",
       "      <th>Spending Score (1-100)</th>\n",
       "      <th>Gender_Female</th>\n",
       "    </tr>\n",
       "  </thead>\n",
       "  <tbody>\n",
       "    <tr>\n",
       "      <th>0</th>\n",
       "      <td>-1.738999</td>\n",
       "      <td>-1.424569</td>\n",
       "      <td>-0.434801</td>\n",
       "      <td>0</td>\n",
       "    </tr>\n",
       "    <tr>\n",
       "      <th>1</th>\n",
       "      <td>-1.738999</td>\n",
       "      <td>-1.281035</td>\n",
       "      <td>1.195704</td>\n",
       "      <td>0</td>\n",
       "    </tr>\n",
       "    <tr>\n",
       "      <th>2</th>\n",
       "      <td>-1.700830</td>\n",
       "      <td>-1.352802</td>\n",
       "      <td>-1.715913</td>\n",
       "      <td>1</td>\n",
       "    </tr>\n",
       "    <tr>\n",
       "      <th>3</th>\n",
       "      <td>-1.700830</td>\n",
       "      <td>-1.137502</td>\n",
       "      <td>1.040418</td>\n",
       "      <td>1</td>\n",
       "    </tr>\n",
       "    <tr>\n",
       "      <th>4</th>\n",
       "      <td>-1.662660</td>\n",
       "      <td>-0.563369</td>\n",
       "      <td>-0.395980</td>\n",
       "      <td>1</td>\n",
       "    </tr>\n",
       "    <tr>\n",
       "      <th>...</th>\n",
       "      <td>...</td>\n",
       "      <td>...</td>\n",
       "      <td>...</td>\n",
       "      <td>...</td>\n",
       "    </tr>\n",
       "    <tr>\n",
       "      <th>195</th>\n",
       "      <td>2.268791</td>\n",
       "      <td>-0.276302</td>\n",
       "      <td>1.118061</td>\n",
       "      <td>1</td>\n",
       "    </tr>\n",
       "    <tr>\n",
       "      <th>196</th>\n",
       "      <td>2.497807</td>\n",
       "      <td>0.441365</td>\n",
       "      <td>-0.861839</td>\n",
       "      <td>1</td>\n",
       "    </tr>\n",
       "    <tr>\n",
       "      <th>197</th>\n",
       "      <td>2.497807</td>\n",
       "      <td>-0.491602</td>\n",
       "      <td>0.923953</td>\n",
       "      <td>0</td>\n",
       "    </tr>\n",
       "    <tr>\n",
       "      <th>198</th>\n",
       "      <td>2.917671</td>\n",
       "      <td>-0.491602</td>\n",
       "      <td>-1.250054</td>\n",
       "      <td>0</td>\n",
       "    </tr>\n",
       "    <tr>\n",
       "      <th>199</th>\n",
       "      <td>2.917671</td>\n",
       "      <td>-0.635135</td>\n",
       "      <td>1.273347</td>\n",
       "      <td>0</td>\n",
       "    </tr>\n",
       "  </tbody>\n",
       "</table>\n",
       "<p>200 rows × 4 columns</p>\n",
       "</div>"
      ],
      "text/plain": [
       "     Annual Income (k$)       Age  Spending Score (1-100)  Gender_Female\n",
       "0             -1.738999 -1.424569               -0.434801              0\n",
       "1             -1.738999 -1.281035                1.195704              0\n",
       "2             -1.700830 -1.352802               -1.715913              1\n",
       "3             -1.700830 -1.137502                1.040418              1\n",
       "4             -1.662660 -0.563369               -0.395980              1\n",
       "..                  ...       ...                     ...            ...\n",
       "195            2.268791 -0.276302                1.118061              1\n",
       "196            2.497807  0.441365               -0.861839              1\n",
       "197            2.497807 -0.491602                0.923953              0\n",
       "198            2.917671 -0.491602               -1.250054              0\n",
       "199            2.917671 -0.635135                1.273347              0\n",
       "\n",
       "[200 rows x 4 columns]"
      ]
     },
     "execution_count": 18,
     "metadata": {},
     "output_type": "execute_result"
    }
   ],
   "source": [
    "newdf.iloc[:,:-1]"
   ]
  },
  {
   "cell_type": "code",
   "execution_count": null,
   "id": "d7e076d7",
   "metadata": {},
   "outputs": [],
   "source": []
  },
  {
   "cell_type": "code",
   "execution_count": 49,
   "id": "a65c8674",
   "metadata": {},
   "outputs": [
    {
     "data": {
      "image/png": "[encoded data removed]",
      "text/plain": [
       "<Figure size 432x288 with 1 Axes>"
      ]
     },
     "metadata": {
      "needs_background": "light"
     },
     "output_type": "display_data"
    }
   ],
   "source": [
    "pca = PCA(n_components=4)\n",
    "principalComponents = pca.fit_transform(newdf.iloc[:,:-1])\n",
    "\n",
    "features = range(pca.n_components_)\n",
    "plt.bar(features, pca.explained_variance_ratio_, color='black')\n",
    "plt.xlabel('PCA features')\n",
    "plt.ylabel('variance %')\n",
    "plt.xticks(features)\n",
    "\n",
    "PCA_components = pd.DataFrame(principalComponents)"
   ]
  },
  {
   "cell_type": "code",
   "execution_count": 50,
   "id": "a65ff7df",
   "metadata": {},
   "outputs": [
    {
     "name": "stderr",
     "output_type": "stream",
     "text": [
      "C:\\Users\\mdelan02\\Anaconda3\\lib\\site-packages\\sklearn\\cluster\\_kmeans.py:881: UserWarning: KMeans is known to have a memory leak on Windows with MKL, when there are less chunks than available threads. You can avoid it by setting the environment variable OMP_NUM_THREADS=1.\n",
      "  warnings.warn(\n"
     ]
    },
    {
     "data": {
      "image/png": "[encoded data removed]",
      "text/plain": [
       "<Figure size 432x288 with 1 Axes>"
      ]
     },
     "metadata": {
      "needs_background": "light"
     },
     "output_type": "display_data"
    }
   ],
   "source": [
    "ks = range(1, 10)\n",
    "inertias = []\n",
    "\n",
    "for k in ks:\n",
    "    model = KMeans(n_clusters=k)\n",
    "    model.fit(PCA_components.iloc[:,:1])\n",
    "    inertias.append(model.inertia_)\n",
    "\n",
    "plt.plot(ks, inertias, '-o', color='black')\n",
    "plt.xlabel('number of clusters, k')\n",
    "plt.ylabel('inertia')\n",
    "plt.xticks(ks)\n",
    "plt.show()"
   ]
  },
  {
   "cell_type": "code",
   "execution_count": 51,
   "id": "3d97feca",
   "metadata": {},
   "outputs": [
    {
     "data": {
      "text/plain": [
       "2"
      ]
     },
     "execution_count": 51,
     "metadata": {},
     "output_type": "execute_result"
    }
   ],
   "source": [
    "kneecheck = KneeLocator(frame['Cluster'],inertias,curve ='convex',direction='decreasing')\n",
    "\n",
    "kneecheck.knee"
   ]
  },
  {
   "cell_type": "code",
   "execution_count": null,
   "id": "e9d3f15f",
   "metadata": {},
   "outputs": [],
   "source": []
  },
  {
   "cell_type": "code",
   "execution_count": 52,
   "id": "5d2e9e5c",
   "metadata": {},
   "outputs": [
    {
     "name": "stdout",
     "output_type": "stream",
     "text": [
      "0.5591168613892543\n"
     ]
    }
   ],
   "source": [
    "model = KMeans(n_clusters=4)\n",
    "model.fit(PCA_components.iloc[:,:1])\n",
    "\n",
    "# silhouette score\n",
    "print(silhouette_score(PCA_components.iloc[:,:1], model.labels_, metric='euclidean')) "
   ]
  },
  {
   "cell_type": "code",
   "execution_count": 53,
   "id": "6c5a0a82",
   "metadata": {},
   "outputs": [
    {
     "data": {
      "text/html": [
       "<div>\n",
       "<style scoped>\n",
       "    .dataframe tbody tr th:only-of-type {\n",
       "        vertical-align: middle;\n",
       "    }\n",
       "\n",
       "    .dataframe tbody tr th {\n",
       "        vertical-align: top;\n",
       "    }\n",
       "\n",
       "    .dataframe thead th {\n",
       "        text-align: right;\n",
       "    }\n",
       "</style>\n",
       "<table border=\"1\" class=\"dataframe\">\n",
       "  <thead>\n",
       "    <tr style=\"text-align: right;\">\n",
       "      <th></th>\n",
       "      <th>Gender</th>\n",
       "      <th>Age</th>\n",
       "      <th>Annual Income (k$)</th>\n",
       "      <th>Spending Score (1-100)</th>\n",
       "      <th>cluster</th>\n",
       "    </tr>\n",
       "  </thead>\n",
       "  <tbody>\n",
       "    <tr>\n",
       "      <th>0</th>\n",
       "      <td>Male</td>\n",
       "      <td>19</td>\n",
       "      <td>15</td>\n",
       "      <td>39</td>\n",
       "      <td>3</td>\n",
       "    </tr>\n",
       "    <tr>\n",
       "      <th>1</th>\n",
       "      <td>Male</td>\n",
       "      <td>21</td>\n",
       "      <td>15</td>\n",
       "      <td>81</td>\n",
       "      <td>0</td>\n",
       "    </tr>\n",
       "    <tr>\n",
       "      <th>2</th>\n",
       "      <td>Female</td>\n",
       "      <td>20</td>\n",
       "      <td>16</td>\n",
       "      <td>6</td>\n",
       "      <td>2</td>\n",
       "    </tr>\n",
       "    <tr>\n",
       "      <th>3</th>\n",
       "      <td>Female</td>\n",
       "      <td>23</td>\n",
       "      <td>16</td>\n",
       "      <td>77</td>\n",
       "      <td>0</td>\n",
       "    </tr>\n",
       "    <tr>\n",
       "      <th>4</th>\n",
       "      <td>Female</td>\n",
       "      <td>31</td>\n",
       "      <td>17</td>\n",
       "      <td>40</td>\n",
       "      <td>3</td>\n",
       "    </tr>\n",
       "  </tbody>\n",
       "</table>\n",
       "</div>"
      ],
      "text/plain": [
       "   Gender  Age  Annual Income (k$)  Spending Score (1-100)  cluster\n",
       "0    Male   19                  15                      39        3\n",
       "1    Male   21                  15                      81        0\n",
       "2  Female   20                  16                       6        2\n",
       "3  Female   23                  16                      77        0\n",
       "4  Female   31                  17                      40        3"
      ]
     },
     "execution_count": 53,
     "metadata": {},
     "output_type": "execute_result"
    }
   ],
   "source": [
    "#mapping clusters back to the dataset\n",
    "\n",
    "df = pd.read_csv('Mall_Customers.csv')\n",
    "df = df.drop(['CustomerID'],axis=1)\n",
    "\n",
    "pred = model.predict(PCA_components.iloc[:,:1])\n",
    "frame = pd.DataFrame(df)\n",
    "frame['cluster'] = pred\n",
    "frame.head()"
   ]
  },
  {
   "cell_type": "code",
   "execution_count": 54,
   "id": "06cfd916",
   "metadata": {},
   "outputs": [
    {
     "data": {
      "text/html": [
       "<div>\n",
       "<style scoped>\n",
       "    .dataframe tbody tr th:only-of-type {\n",
       "        vertical-align: middle;\n",
       "    }\n",
       "\n",
       "    .dataframe tbody tr th {\n",
       "        vertical-align: top;\n",
       "    }\n",
       "\n",
       "    .dataframe thead th {\n",
       "        text-align: right;\n",
       "    }\n",
       "</style>\n",
       "<table border=\"1\" class=\"dataframe\">\n",
       "  <thead>\n",
       "    <tr style=\"text-align: right;\">\n",
       "      <th></th>\n",
       "      <th>cluster</th>\n",
       "      <th>Age</th>\n",
       "      <th>Annual Income (k$)</th>\n",
       "      <th>Spending Score (1-100)</th>\n",
       "    </tr>\n",
       "  </thead>\n",
       "  <tbody>\n",
       "    <tr>\n",
       "      <th>0</th>\n",
       "      <td>0</td>\n",
       "      <td>27.833333</td>\n",
       "      <td>62.750000</td>\n",
       "      <td>79.116667</td>\n",
       "    </tr>\n",
       "    <tr>\n",
       "      <th>1</th>\n",
       "      <td>1</td>\n",
       "      <td>55.829787</td>\n",
       "      <td>58.638298</td>\n",
       "      <td>26.404255</td>\n",
       "    </tr>\n",
       "    <tr>\n",
       "      <th>2</th>\n",
       "      <td>2</td>\n",
       "      <td>42.767857</td>\n",
       "      <td>62.053571</td>\n",
       "      <td>37.035714</td>\n",
       "    </tr>\n",
       "    <tr>\n",
       "      <th>3</th>\n",
       "      <td>3</td>\n",
       "      <td>29.216216</td>\n",
       "      <td>57.189189</td>\n",
       "      <td>53.459459</td>\n",
       "    </tr>\n",
       "  </tbody>\n",
       "</table>\n",
       "</div>"
      ],
      "text/plain": [
       "   cluster        Age  Annual Income (k$)  Spending Score (1-100)\n",
       "0        0  27.833333           62.750000               79.116667\n",
       "1        1  55.829787           58.638298               26.404255\n",
       "2        2  42.767857           62.053571               37.035714\n",
       "3        3  29.216216           57.189189               53.459459"
      ]
     },
     "execution_count": 54,
     "metadata": {},
     "output_type": "execute_result"
    }
   ],
   "source": [
    "avg_df = df.groupby(['cluster'], as_index=False).mean()\n",
    "avg_df"
   ]
  },
  {
   "cell_type": "code",
   "execution_count": 55,
   "id": "98c6ad1c",
   "metadata": {},
   "outputs": [
    {
     "data": {
      "text/plain": [
       "<AxesSubplot:xlabel='cluster', ylabel='Annual Income (k$)'>"
      ]
     },
     "execution_count": 55,
     "metadata": {},
     "output_type": "execute_result"
    },
    {
     "data": {
      "image/png": "[encoded data removed]",
      "text/plain": [
       "<Figure size 432x288 with 1 Axes>"
      ]
     },
     "metadata": {
      "needs_background": "light"
     },
     "output_type": "display_data"
    }
   ],
   "source": [
    "sns.barplot(x='cluster',y='Age',data=avg_df)\n",
    "sns.barplot(x='cluster',y='Spending Score (1-100)',data=avg_df)\n",
    "sns.barplot(x='cluster',y='Annual Income (k$)',data=avg_df)"
   ]
  },
  {
   "cell_type": "code",
   "execution_count": 56,
   "id": "536e09b7",
   "metadata": {},
   "outputs": [
    {
     "data": {
      "text/html": [
       "<div>\n",
       "<style scoped>\n",
       "    .dataframe tbody tr th:only-of-type {\n",
       "        vertical-align: middle;\n",
       "    }\n",
       "\n",
       "    .dataframe tbody tr th {\n",
       "        vertical-align: top;\n",
       "    }\n",
       "\n",
       "    .dataframe thead th {\n",
       "        text-align: right;\n",
       "    }\n",
       "</style>\n",
       "<table border=\"1\" class=\"dataframe\">\n",
       "  <thead>\n",
       "    <tr style=\"text-align: right;\">\n",
       "      <th></th>\n",
       "      <th></th>\n",
       "      <th>Gender</th>\n",
       "    </tr>\n",
       "    <tr>\n",
       "      <th>cluster</th>\n",
       "      <th>Gender</th>\n",
       "      <th></th>\n",
       "    </tr>\n",
       "  </thead>\n",
       "  <tbody>\n",
       "    <tr>\n",
       "      <th rowspan=\"2\" valign=\"top\">0</th>\n",
       "      <th>Female</th>\n",
       "      <td>35</td>\n",
       "    </tr>\n",
       "    <tr>\n",
       "      <th>Male</th>\n",
       "      <td>25</td>\n",
       "    </tr>\n",
       "    <tr>\n",
       "      <th rowspan=\"2\" valign=\"top\">1</th>\n",
       "      <th>Female</th>\n",
       "      <td>22</td>\n",
       "    </tr>\n",
       "    <tr>\n",
       "      <th>Male</th>\n",
       "      <td>25</td>\n",
       "    </tr>\n",
       "    <tr>\n",
       "      <th>2</th>\n",
       "      <th>Female</th>\n",
       "      <td>33</td>\n",
       "    </tr>\n",
       "  </tbody>\n",
       "</table>\n",
       "</div>"
      ],
      "text/plain": [
       "                Gender\n",
       "cluster Gender        \n",
       "0       Female      35\n",
       "        Male        25\n",
       "1       Female      22\n",
       "        Male        25\n",
       "2       Female      33"
      ]
     },
     "execution_count": 56,
     "metadata": {},
     "output_type": "execute_result"
    }
   ],
   "source": [
    "df2 = pd.DataFrame(df.groupby(['cluster','Gender'])['Gender'].count())\n",
    "df2.head()"
   ]
  },
  {
   "cell_type": "code",
   "execution_count": null,
   "id": "59f54349",
   "metadata": {},
   "outputs": [],
   "source": [
    "'''\n",
    "KNN is a descriptive measure. For us to use this for persona's we take graphs of the variables in we see in the custers\n",
    "then describe them. Why are we stopping the math and letting humans take over? This also seems like it would fail on clusters\n",
    "with higher dimensionality.\n",
    "\n",
    "Can we determine what features make a cluster important mathematically and use that to describe it?\n",
    "'''"
   ]
  },
  {
   "cell_type": "code",
   "execution_count": 154,
   "id": "7d7771e1",
   "metadata": {},
   "outputs": [],
   "source": [
    "from sklearn.ensemble import RandomForestClassifier\n",
    "from sklearn.preprocessing import OneHotEncoder\n",
    "from sklearn.compose import ColumnTransformer, make_column_transformer\n",
    "from sklearn import preprocessing\n",
    "from sklearn.pipeline import make_pipeline"
   ]
  },
  {
   "cell_type": "code",
   "execution_count": 134,
   "id": "14ca08bc",
   "metadata": {},
   "outputs": [],
   "source": [
    "numClusters = len(set(frame['cluster']))"
   ]
  },
  {
   "cell_type": "code",
   "execution_count": 151,
   "id": "6099c9fc",
   "metadata": {},
   "outputs": [],
   "source": [
    "clusterList = []\n",
    "for i in range(numClusters):\n",
    "    df = frame.copy()\n",
    "    df['orig_cluster'] = df['cluster']\n",
    "    clusterList.append(df)"
   ]
  },
  {
   "cell_type": "code",
   "execution_count": 152,
   "id": "48164b15",
   "metadata": {},
   "outputs": [],
   "source": [
    "for n,j in enumerate(clusterList):\n",
    "    j.loc[j['cluster'] != n, 'cluster'] = numClusters\n",
    "    j.loc[j['cluster'] == n, 'cluster'] = 1\n",
    "    j.loc[j['cluster'] == numClusters, 'cluster'] = 0"
   ]
  },
  {
   "cell_type": "code",
   "execution_count": null,
   "id": "e085fdac",
   "metadata": {},
   "outputs": [],
   "source": []
  }
 ],
 "metadata": {
  "kernelspec": {
   "display_name": "Python 3 (ipykernel)",
   "language": "python",
   "name": "python3"
  },
  "language_info": {
   "codemirror_mode": {
    "name": "ipython",
    "version": 3
   },
   "file_extension": ".py",
   "mimetype": "text/x-python",
   "name": "python",
   "nbconvert_exporter": "python",
   "pygments_lexer": "ipython3",
   "version": "3.9.7"
  }
 },
 "nbformat": 4,
 "nbformat_minor": 5
}
