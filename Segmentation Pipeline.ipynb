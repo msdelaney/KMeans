{
 "cells": [
  {
   "cell_type": "code",
   "execution_count": 1,
   "id": "c96340f9",
   "metadata": {},
   "outputs": [],
   "source": [
    "#pip install yellowbrick"
   ]
  },
  {
   "cell_type": "code",
   "execution_count": 147,
   "id": "b3c5b2d9",
   "metadata": {},
   "outputs": [],
   "source": [
    "import pandas as pd\n",
    "import numpy as np\n",
    "import matplotlib.pyplot as plt\n",
    "import sea\n",
    "from kneed import KneeLocator\n",
    "from sklearn.datasets import make_blobs\n",
    "from sklearn.cluster import KMeans\n",
    "from sklearn.metrics import silhouette_score\n",
    "from sklearn.preprocessing import StandardScaler\n",
    "from sklearn.decomposition import PCA\n",
    "from mpl_toolkits.mplot3d import Axes3D\n",
    "import seaborn as sns\n",
    "from sklearn.compose import ColumnTransformer\n",
    "from sklearn.pipeline import Pipeline\n",
    "from sklearn.impute import KNNImputer\n",
    "from sklearn.preprocessing import FunctionTransformer\n",
    "from sklearn.preprocessing import Normalizer\n",
    "from sklearn.preprocessing import OneHotEncoder\n",
    "from sklearn.preprocessing import MinMaxScaler\n",
    "from sklearn.preprocessing import LabelEncoder\n",
    "from sklearn.experimental import enable_iterative_imputer\n",
    "from sklearn.impute import IterativeImputer\n",
    "from sklearn.ensemble import RandomForestRegressor, RandomForestClassifier\n",
    "from sklearn import preprocessing"
   ]
  },
  {
   "cell_type": "code",
   "execution_count": 148,
   "id": "00f0b2de",
   "metadata": {},
   "outputs": [],
   "source": [
    "df = pd.read_csv('Mall_Customers.csv')"
   ]
  },
  {
   "cell_type": "code",
   "execution_count": 149,
   "id": "5dcadf55",
   "metadata": {},
   "outputs": [
    {
     "data": {
      "text/html": [
       "<div>\n",
       "<style scoped>\n",
       "    .dataframe tbody tr th:only-of-type {\n",
       "        vertical-align: middle;\n",
       "    }\n",
       "\n",
       "    .dataframe tbody tr th {\n",
       "        vertical-align: top;\n",
       "    }\n",
       "\n",
       "    .dataframe thead th {\n",
       "        text-align: right;\n",
       "    }\n",
       "</style>\n",
       "<table border=\"1\" class=\"dataframe\">\n",
       "  <thead>\n",
       "    <tr style=\"text-align: right;\">\n",
       "      <th></th>\n",
       "      <th>CustomerID</th>\n",
       "      <th>Gender</th>\n",
       "      <th>Age</th>\n",
       "      <th>Annual Income (k$)</th>\n",
       "      <th>Spending Score (1-100)</th>\n",
       "    </tr>\n",
       "  </thead>\n",
       "  <tbody>\n",
       "    <tr>\n",
       "      <th>0</th>\n",
       "      <td>1</td>\n",
       "      <td>Male</td>\n",
       "      <td>19</td>\n",
       "      <td>15</td>\n",
       "      <td>39</td>\n",
       "    </tr>\n",
       "    <tr>\n",
       "      <th>1</th>\n",
       "      <td>2</td>\n",
       "      <td>Male</td>\n",
       "      <td>21</td>\n",
       "      <td>15</td>\n",
       "      <td>81</td>\n",
       "    </tr>\n",
       "    <tr>\n",
       "      <th>2</th>\n",
       "      <td>3</td>\n",
       "      <td>Female</td>\n",
       "      <td>20</td>\n",
       "      <td>16</td>\n",
       "      <td>6</td>\n",
       "    </tr>\n",
       "    <tr>\n",
       "      <th>3</th>\n",
       "      <td>4</td>\n",
       "      <td>Female</td>\n",
       "      <td>23</td>\n",
       "      <td>16</td>\n",
       "      <td>77</td>\n",
       "    </tr>\n",
       "    <tr>\n",
       "      <th>4</th>\n",
       "      <td>5</td>\n",
       "      <td>Female</td>\n",
       "      <td>31</td>\n",
       "      <td>17</td>\n",
       "      <td>40</td>\n",
       "    </tr>\n",
       "  </tbody>\n",
       "</table>\n",
       "</div>"
      ],
      "text/plain": [
       "   CustomerID  Gender  Age  Annual Income (k$)  Spending Score (1-100)\n",
       "0           1    Male   19                  15                      39\n",
       "1           2    Male   21                  15                      81\n",
       "2           3  Female   20                  16                       6\n",
       "3           4  Female   23                  16                      77\n",
       "4           5  Female   31                  17                      40"
      ]
     },
     "execution_count": 149,
     "metadata": {},
     "output_type": "execute_result"
    }
   ],
   "source": [
    "df.head()"
   ]
  },
  {
   "cell_type": "code",
   "execution_count": 150,
   "id": "d4c1cc16",
   "metadata": {},
   "outputs": [],
   "source": [
    "logtransformer = FunctionTransformer(np.log1p, validate=True) #np.log1p for small numbers"
   ]
  },
  {
   "cell_type": "code",
   "execution_count": 151,
   "id": "40bd80ff",
   "metadata": {},
   "outputs": [
    {
     "name": "stdout",
     "output_type": "stream",
     "text": [
      "['Gender']\n"
     ]
    }
   ],
   "source": [
    "categ = df.select_dtypes(include=['object']).columns.tolist()\n",
    "\n",
    "# Encode Categorical Columns\n",
    "le = LabelEncoder()\n",
    "df[categ] = df[categ].apply(le.fit_transform)\n",
    "print(categ)"
   ]
  },
  {
   "cell_type": "code",
   "execution_count": null,
   "id": "906d705a",
   "metadata": {},
   "outputs": [],
   "source": []
  },
  {
   "cell_type": "code",
   "execution_count": 152,
   "id": "ea1c06ef",
   "metadata": {},
   "outputs": [],
   "source": [
    "#income and age is generally skew which is bad for KNN, well log transform to reduce skew\n",
    "norm_pipeline = Pipeline([\n",
    "    ('impute', KNNImputer()),\n",
    "    ('log', logtransformer),\n",
    "    ('nscale', Normalizer())\n",
    "])\n",
    "    \n",
    "std_pipeline = Pipeline([\n",
    "    ('impute', KNNImputer()),\n",
    "    ('stdscale', StandardScaler())    \n",
    "])\n",
    "\n",
    "cat_pipeline = Pipeline([\n",
    "    ('impute', IterativeImputer(estimator=RandomForestClassifier(), \n",
    "                               initial_strategy='most_frequent',\n",
    "                               max_iter=10, random_state=0)),\n",
    "    ('OHE', OneHotEncoder(drop=\"if_binary\"))    \n",
    "])\n",
    "\n",
    "\n",
    "preprocess_pipeline = ColumnTransformer([\n",
    "    ('normalized', norm_pipeline, ['Annual Income (k$)', 'Age']),\n",
    "    ('standardized', std_pipeline, ['Spending Score (1-100)']),\n",
    "    ('categorical', cat_pipeline, ['Gender'])\n",
    "])\n"
   ]
  },
  {
   "cell_type": "code",
   "execution_count": 153,
   "id": "87dc29c0",
   "metadata": {},
   "outputs": [
    {
     "name": "stdout",
     "output_type": "stream",
     "text": [
      "     CustomerID  Gender  Age  Annual Income (k$)  Spending Score (1-100)\n",
      "0             1       1   19                  15                      39\n",
      "1             2       1   21                  15                      81\n",
      "2             3       0   20                  16                       6\n",
      "3             4       0   23                  16                      77\n",
      "4             5       0   31                  17                      40\n",
      "..          ...     ...  ...                 ...                     ...\n",
      "195         196       0   35                 120                      79\n",
      "196         197       0   45                 126                      28\n",
      "197         198       1   32                 126                      74\n",
      "198         199       1   32                 137                      18\n",
      "199         200       1   30                 137                      83\n",
      "\n",
      "[200 rows x 5 columns]\n"
     ]
    }
   ],
   "source": [
    "print(df)"
   ]
  },
  {
   "cell_type": "code",
   "execution_count": 154,
   "id": "6ca3fae8",
   "metadata": {},
   "outputs": [
    {
     "data": {
      "text/plain": [
       "array([[ 0.67924479,  0.73391179, -0.43480148,  1.        ],\n",
       "       [ 0.6677198 ,  0.7444127 ,  1.19570407,  1.        ],\n",
       "       [ 0.68124565,  0.73205489, -1.71591298,  0.        ],\n",
       "       [ 0.66544908,  0.74644325,  1.04041783,  0.        ],\n",
       "       [ 0.64047971,  0.76797509, -0.39597992,  0.        ],\n",
       "       [ 0.67778228,  0.73526266,  1.00159627,  0.        ],\n",
       "       [ 0.63484681,  0.77263804, -1.71591298,  0.        ],\n",
       "       [ 0.67963126,  0.73355391,  1.70038436,  0.        ],\n",
       "       [ 0.58304448,  0.81244024, -1.83237767,  1.        ],\n",
       "       [ 0.6573845 ,  0.75355532,  0.84631002,  0.        ],\n",
       "       [ 0.57890673,  0.81539377, -1.4053405 ,  1.        ],\n",
       "       [ 0.64137974,  0.76722358,  1.89449216,  0.        ],\n",
       "       [ 0.59828433,  0.80128388, -1.36651894,  0.        ],\n",
       "       [ 0.68715696,  0.72650899,  1.04041783,  0.        ],\n",
       "       [ 0.64182528,  0.7668509 , -1.44416206,  1.        ],\n",
       "       [ 0.69662248,  0.71743789,  1.11806095,  1.        ],\n",
       "       [ 0.65315803,  0.75722162, -0.59008772,  0.        ],\n",
       "       [ 0.71244761,  0.70172531,  0.61338066,  1.        ],\n",
       "       [ 0.62491327,  0.78069418, -0.82301709,  1.        ],\n",
       "       [ 0.66351245,  0.74816524,  1.8556706 ,  0.        ],\n",
       "       [ 0.66824283,  0.74394322, -0.59008772,  1.        ],\n",
       "       [ 0.70281208,  0.71137556,  0.88513158,  1.        ],\n",
       "       [ 0.64597452,  0.76335897, -1.75473454,  0.        ],\n",
       "       [ 0.68494403,  0.72859569,  0.88513158,  1.        ],\n",
       "       [ 0.64331932,  0.76559797, -1.4053405 ,  0.        ],\n",
       "       [ 0.70355625,  0.71063957,  1.23452563,  1.        ],\n",
       "       [ 0.66041691,  0.75089913, -0.7065524 ,  0.        ],\n",
       "       [ 0.68477915,  0.72875066,  0.41927286,  1.        ],\n",
       "       [ 0.67541052,  0.73744195, -0.74537397,  0.        ],\n",
       "       [ 0.73066907,  0.6827318 ,  1.42863343,  0.        ],\n",
       "       [ 0.64109391,  0.76746244, -1.7935561 ,  1.        ],\n",
       "       [ 0.74324529,  0.66901902,  0.88513158,  0.        ],\n",
       "       [ 0.66232559,  0.74921613, -1.7935561 ,  1.        ],\n",
       "       [ 0.76759945,  0.64092986,  1.62274124,  1.        ],\n",
       "       [ 0.66954565,  0.74277091, -1.4053405 ,  0.        ],\n",
       "       [ 0.75199759,  0.65916586,  1.19570407,  0.        ],\n",
       "       [ 0.68694041,  0.72671375, -1.28887582,  0.        ],\n",
       "       [ 0.71927636,  0.69472406,  0.88513158,  0.        ],\n",
       "       [ 0.70970352,  0.70450047, -0.93948177,  0.        ],\n",
       "       [ 0.7668509 ,  0.64182528,  0.96277471,  0.        ],\n",
       "       [ 0.65826174,  0.75278914, -0.59008772,  0.        ],\n",
       "       [ 0.75122771,  0.66004313,  1.62274124,  1.        ],\n",
       "       [ 0.68793055,  0.72577652, -0.55126616,  1.        ],\n",
       "       [ 0.72880618,  0.68472005,  0.41927286,  0.        ],\n",
       "       [ 0.68605231,  0.72755222, -0.86183865,  0.        ],\n",
       "       [ 0.75347625,  0.65747513,  0.5745591 ,  0.        ],\n",
       "       [ 0.68664124,  0.72699643,  0.18634349,  0.        ],\n",
       "       [ 0.74429094,  0.66785552, -0.12422899,  0.        ],\n",
       "       [ 0.73744195,  0.67541052, -0.3183368 ,  0.        ],\n",
       "       [ 0.73108126,  0.6822904 , -0.3183368 ,  0.        ],\n",
       "       [ 0.6930742 ,  0.72086625,  0.06987881,  0.        ],\n",
       "       [ 0.72951442,  0.68396543,  0.38045129,  1.        ],\n",
       "       [ 0.73745543,  0.6753958 ,  0.14752193,  0.        ],\n",
       "       [ 0.6787443 ,  0.73437468,  0.38045129,  1.        ],\n",
       "       [ 0.69345028,  0.72050448, -0.20187212,  0.        ],\n",
       "       [ 0.69902464,  0.71509759, -0.35715836,  1.        ],\n",
       "       [ 0.69380822,  0.72015982, -0.00776431,  0.        ],\n",
       "       [ 0.66731823,  0.7447727 , -0.16305055,  1.        ],\n",
       "       [ 0.75613506,  0.6544156 ,  0.03105725,  0.        ],\n",
       "       [ 0.69447452,  0.7195173 , -0.16305055,  1.        ],\n",
       "       [ 0.67028483,  0.74210393,  0.22516505,  1.        ],\n",
       "       [ 0.78923567,  0.61409043,  0.18634349,  1.        ],\n",
       "       [ 0.67603952,  0.73686537,  0.06987881,  0.        ],\n",
       "       [ 0.69478506,  0.71921743,  0.34162973,  0.        ],\n",
       "       [ 0.68327437,  0.73016172,  0.03105725,  1.        ],\n",
       "       [ 0.7974776 ,  0.60334855,  0.34162973,  1.        ],\n",
       "       [ 0.71695114,  0.69712342, -0.00776431,  0.        ],\n",
       "       [ 0.67672142,  0.73623917, -0.08540743,  0.        ],\n",
       "       [ 0.79242475,  0.60996968,  0.34162973,  1.        ],\n",
       "       [ 0.74387653,  0.66831707, -0.12422899,  0.        ],\n",
       "       [ 0.6761534 ,  0.73676087,  0.18634349,  1.        ],\n",
       "       [ 0.71080569,  0.70338842, -0.3183368 ,  0.        ],\n",
       "       [ 0.69119377,  0.72266948, -0.04658587,  0.        ],\n",
       "       [ 0.69119377,  0.72266948,  0.22516505,  0.        ],\n",
       "       [ 0.69947217,  0.71465984, -0.12422899,  1.        ],\n",
       "       [ 0.77233864,  0.63521101,  0.14752193,  1.        ],\n",
       "       [ 0.72304369,  0.6908023 ,  0.10870037,  0.        ],\n",
       "       [ 0.73347972,  0.67971134, -0.08540743,  1.        ],\n",
       "       [ 0.78351443,  0.62137359,  0.06987881,  0.        ],\n",
       "       [ 0.71556506,  0.6985461 , -0.3183368 ,  0.        ],\n",
       "       [ 0.70243671,  0.71174621,  0.03105725,  1.        ],\n",
       "       [ 0.73805503,  0.67474052,  0.18634349,  1.        ],\n",
       "       [ 0.68864114,  0.72510232, -0.35715836,  1.        ],\n",
       "       [ 0.72110788,  0.69282279, -0.24069368,  0.        ],\n",
       "       [ 0.79181368,  0.61076272,  0.26398661,  0.        ],\n",
       "       [ 0.71737042,  0.69669195, -0.16305055,  1.        ],\n",
       "       [ 0.71016885,  0.7040314 ,  0.30280817,  0.        ],\n",
       "       [ 0.79148498,  0.61118862,  0.18634349,  0.        ],\n",
       "       [ 0.75372037,  0.65719525,  0.38045129,  0.        ],\n",
       "       [ 0.71985184,  0.69412775, -0.16305055,  0.        ],\n",
       "       [ 0.69514276,  0.71887171,  0.18634349,  0.        ],\n",
       "       [ 0.81186228,  0.58384899, -0.35715836,  1.        ],\n",
       "       [ 0.72619005,  0.68749401, -0.04658587,  1.        ],\n",
       "       [ 0.74205553,  0.67033842, -0.39597992,  0.        ],\n",
       "       [ 0.76173219,  0.64789202, -0.3183368 ,  0.        ],\n",
       "       [ 0.78734972,  0.61650663,  0.06987881,  1.        ],\n",
       "       [ 0.72801053,  0.68556594, -0.12422899,  0.        ],\n",
       "       [ 0.77684231,  0.62969518, -0.00776431,  0.        ],\n",
       "       [ 0.72754346,  0.6860616 , -0.3183368 ,  1.        ],\n",
       "       [ 0.80473204,  0.59363823, -0.04658587,  1.        ],\n",
       "       [ 0.79345371,  0.60863061, -0.35715836,  0.        ],\n",
       "       [ 0.72709528,  0.68653656, -0.08540743,  0.        ],\n",
       "       [ 0.70061981,  0.71353478,  0.34162973,  1.        ],\n",
       "       [ 0.78258619,  0.62254225,  0.18634349,  1.        ],\n",
       "       [ 0.72709528,  0.68653656,  0.22516505,  1.        ],\n",
       "       [ 0.80151184,  0.5979789 , -0.3183368 ,  0.        ],\n",
       "       [ 0.70322322,  0.71096913, -0.00776431,  0.        ],\n",
       "       [ 0.72010538,  0.69386471, -0.16305055,  1.        ],\n",
       "       [ 0.70074109,  0.71341568, -0.27951524,  1.        ],\n",
       "       [ 0.70322322,  0.71096913, -0.08540743,  1.        ],\n",
       "       [ 0.70449569,  0.70970827,  0.06987881,  1.        ],\n",
       "       [ 0.81141068,  0.58447644,  0.14752193,  0.        ],\n",
       "       [ 0.75159678,  0.65962283, -0.3183368 ,  0.        ],\n",
       "       [ 0.81244024,  0.58304448, -0.16305055,  1.        ],\n",
       "       [ 0.81815888,  0.57499222, -0.08540743,  0.        ],\n",
       "       [ 0.8134467 ,  0.58163946, -0.00776431,  0.        ],\n",
       "       [ 0.70970827,  0.70449569, -0.27951524,  0.        ],\n",
       "       [ 0.73090918,  0.68247474,  0.34162973,  0.        ],\n",
       "       [ 0.72992936,  0.68352258, -0.27951524,  0.        ],\n",
       "       [ 0.73160695,  0.68172668,  0.26398661,  0.        ],\n",
       "       [ 0.78479101,  0.61976049,  0.22516505,  1.        ],\n",
       "       [ 0.75509935,  0.65561038, -0.39597992,  0.        ],\n",
       "       [ 0.75291571,  0.65811696,  0.30280817,  0.        ],\n",
       "       [ 0.7550862 ,  0.65562553,  1.58391968,  1.        ],\n",
       "       [ 0.80170803,  0.59771584, -0.82301709,  0.        ],\n",
       "       [ 0.77590831,  0.6308457 ,  1.04041783,  0.        ],\n",
       "       [ 0.74891096,  0.66267064, -0.59008772,  1.        ],\n",
       "       [ 0.75506588,  0.65564893,  1.73920592,  1.        ],\n",
       "       [ 0.72233634,  0.69154191, -1.52180518,  1.        ],\n",
       "       [ 0.75944541,  0.65057103,  0.96277471,  1.        ],\n",
       "       [ 0.74137738,  0.67108836, -1.5994483 ,  1.        ],\n",
       "       [ 0.7572262 ,  0.65315273,  0.96277471,  1.        ],\n",
       "       [ 0.79639934,  0.60477111, -0.62890928,  0.        ],\n",
       "       [ 0.77790885,  0.62837714,  0.80748846,  0.        ],\n",
       "       [ 0.81639921,  0.57748795, -1.75473454,  1.        ],\n",
       "       [ 0.78459443,  0.62000933,  1.46745499,  0.        ],\n",
       "       [ 0.7490639 ,  0.66249775, -1.67709142,  0.        ],\n",
       "       [ 0.77616213,  0.63053339,  0.88513158,  1.        ],\n",
       "       [ 0.82159487,  0.57007181, -1.56062674,  1.        ],\n",
       "       [ 0.7694809 ,  0.63866982,  0.84631002,  0.        ],\n",
       "       [ 0.72950522,  0.68397524, -1.75473454,  0.        ],\n",
       "       [ 0.77806345,  0.6281857 ,  1.6615628 ,  1.        ],\n",
       "       [ 0.79034046,  0.6126679 , -0.39597992,  0.        ],\n",
       "       [ 0.77898769,  0.62703922,  1.42863343,  0.        ],\n",
       "       [ 0.8008317 ,  0.59888946, -1.48298362,  1.        ],\n",
       "       [ 0.79121926,  0.61153257,  1.81684904,  1.        ],\n",
       "       [ 0.74577591,  0.66619688, -0.55126616,  1.        ],\n",
       "       [ 0.77989505,  0.6259103 ,  0.92395314,  0.        ],\n",
       "       [ 0.77566449,  0.63114547, -1.09476801,  0.        ],\n",
       "       [ 0.77566449,  0.63114547,  1.54509812,  1.        ],\n",
       "       [ 0.75591723,  0.65466719, -1.28887582,  1.        ],\n",
       "       [ 0.76410547,  0.64509134,  1.46745499,  1.        ],\n",
       "       [ 0.7539949 ,  0.65688027, -1.17241113,  0.        ],\n",
       "       [ 0.76628967,  0.64249524,  1.00159627,  0.        ],\n",
       "       [ 0.74849306,  0.66314262, -1.32769738,  0.        ],\n",
       "       [ 0.79515956,  0.60640025,  1.50627656,  0.        ],\n",
       "       [ 0.76853436,  0.63980852, -1.91002079,  1.        ],\n",
       "       [ 0.78624406,  0.61791607,  1.07923939,  0.        ],\n",
       "       [ 0.77566449,  0.63114547, -1.91002079,  1.        ],\n",
       "       [ 0.78624406,  0.61791607,  0.88513158,  0.        ],\n",
       "       [ 0.73496195,  0.67810835, -0.59008772,  0.        ],\n",
       "       [ 0.78996735,  0.61314891,  1.27334719,  0.        ],\n",
       "       [ 0.82699952,  0.56220263, -1.75473454,  1.        ],\n",
       "       [ 0.78603112,  0.61818693,  1.6615628 ,  0.        ],\n",
       "       [ 0.74971099,  0.66176539, -0.93948177,  1.        ],\n",
       "       [ 0.77681675,  0.62972672,  0.96277471,  0.        ],\n",
       "       [ 0.76487446,  0.64417937, -1.17241113,  1.        ],\n",
       "       [ 0.78482776,  0.61971396,  1.73920592,  0.        ],\n",
       "       [ 0.77839924,  0.62776956, -0.90066021,  0.        ],\n",
       "       [ 0.78814493,  0.6154897 ,  0.49691598,  1.        ],\n",
       "       [ 0.76970232,  0.63840295, -1.44416206,  1.        ],\n",
       "       [ 0.79920305,  0.60106113,  0.96277471,  1.        ],\n",
       "       [ 0.77839924,  0.62776956, -1.56062674,  1.        ],\n",
       "       [ 0.77839924,  0.62776956,  1.62274124,  1.        ],\n",
       "       [ 0.74903175,  0.66253411, -1.44416206,  0.        ],\n",
       "       [ 0.7942297 ,  0.60761763,  1.38981187,  0.        ],\n",
       "       [ 0.74018963,  0.67239818, -1.36651894,  1.        ],\n",
       "       [ 0.80293314,  0.5960691 ,  0.72984534,  1.        ],\n",
       "       [ 0.74285665,  0.66945052, -1.4053405 ,  1.        ],\n",
       "       [ 0.78515944,  0.61929367,  1.54509812,  1.        ],\n",
       "       [ 0.78339513,  0.62152399, -0.7065524 ,  0.        ],\n",
       "       [ 0.79516419,  0.60639418,  1.38981187,  0.        ],\n",
       "       [ 0.76650551,  0.64223773, -1.36651894,  1.        ],\n",
       "       [ 0.80377426,  0.5949344 ,  1.46745499,  0.        ],\n",
       "       [ 0.77644653,  0.63018314, -0.43480148,  0.        ],\n",
       "       [ 0.80165892,  0.59778171,  1.81684904,  1.        ],\n",
       "       [ 0.75576806,  0.6548394 , -1.01712489,  0.        ],\n",
       "       [ 0.80843006,  0.58859225,  0.69102378,  1.        ],\n",
       "       [ 0.77905254,  0.62695864, -1.28887582,  0.        ],\n",
       "       [ 0.78946639,  0.6137938 ,  1.35099031,  0.        ],\n",
       "       [ 0.79404795,  0.60785513, -1.05594645,  0.        ],\n",
       "       [ 0.7989076 ,  0.60145378,  0.72984534,  0.        ],\n",
       "       [ 0.80209144,  0.59720124, -1.63826986,  1.        ],\n",
       "       [ 0.79098012,  0.61184185,  1.58391968,  0.        ],\n",
       "       [ 0.77812531,  0.62810906, -1.32769738,  0.        ],\n",
       "       [ 0.80106701,  0.59857468,  1.11806095,  0.        ],\n",
       "       [ 0.78454528,  0.62007154, -0.86183865,  0.        ],\n",
       "       [ 0.81084381,  0.5852626 ,  0.92395314,  1.        ],\n",
       "       [ 0.81552692,  0.57871914, -1.25005425,  1.        ],\n",
       "       [ 0.82041061,  0.57177481,  1.27334719,  1.        ]])"
      ]
     },
     "execution_count": 154,
     "metadata": {},
     "output_type": "execute_result"
    }
   ],
   "source": [
    "preprocess_pipeline.fit_transform(df)\n"
   ]
  },
  {
   "cell_type": "code",
   "execution_count": 155,
   "id": "a01a4169",
   "metadata": {},
   "outputs": [
    {
     "name": "stderr",
     "output_type": "stream",
     "text": [
      "C:\\Users\\mdelan02\\Anaconda3\\lib\\site-packages\\sklearn\\cluster\\_kmeans.py:1036: UserWarning: KMeans is known to have a memory leak on Windows with MKL, when there are less chunks than available threads. You can avoid it by setting the environment variable OMP_NUM_THREADS=1.\n",
      "  warnings.warn(\n"
     ]
    },
    {
     "data": {
      "text/plain": [
       "Text(0, 0.5, 'Inertia')"
      ]
     },
     "execution_count": 155,
     "metadata": {},
     "output_type": "execute_result"
    },
    {
     "data": {
      "image/png": "[encoded data removed]",
      "text/plain": [
       "<Figure size 864x432 with 1 Axes>"
      ]
     },
     "metadata": {},
     "output_type": "display_data"
    }
   ],
   "source": [
    "SSE = []\n",
    "\n",
    "for cluster in range(1,10):\n",
    "    kmeans = KMeans(n_clusters = cluster, init='k-means++')\n",
    "    pipe = Pipeline([('preprocess',preprocess_pipeline), ('clf',kmeans)])\n",
    "    pipe.fit(df)\n",
    "    SSE.append(kmeans.inertia_)\n",
    "\n",
    "# converting the results into a dataframe and plotting them\n",
    "#plotting to find the elbow of the figure which is the optimal # of clusters\n",
    "\n",
    "frame = pd.DataFrame({'Cluster':range(1,10), 'SSE':SSE})\n",
    "plt.figure(figsize=(12,6))\n",
    "plt.plot(frame['Cluster'], frame['SSE'], marker='o')\n",
    "plt.xlabel('Number of clusters')\n",
    "plt.ylabel('Inertia')"
   ]
  },
  {
   "cell_type": "code",
   "execution_count": 156,
   "id": "e0cd5ce6",
   "metadata": {},
   "outputs": [
    {
     "name": "stdout",
     "output_type": "stream",
     "text": [
      "4\n"
     ]
    }
   ],
   "source": [
    "#function to find knees if visual is difficult\n",
    "kneecheck = KneeLocator(frame['Cluster'],frame['SSE'],curve ='convex',direction='decreasing')\n",
    "\n",
    "OptimalClusters = kneecheck.knee\n",
    "OptimalClusters = 4\n",
    "print(OptimalClusters)"
   ]
  },
  {
   "cell_type": "code",
   "execution_count": 157,
   "id": "f7c0c88b",
   "metadata": {},
   "outputs": [
    {
     "data": {
      "image/png": "[encoded data removed]",
      "text/plain": [
       "<Figure size 1080x576 with 6 Axes>"
      ]
     },
     "metadata": {},
     "output_type": "display_data"
    }
   ],
   "source": [
    "from sklearn import datasets\n",
    "from sklearn.cluster import KMeans\n",
    "import matplotlib.pyplot as plt\n",
    "from yellowbrick.cluster import SilhouetteVisualizer\n",
    "\n",
    "fig, ax = plt.subplots(3, 2, figsize=(15,8))\n",
    "for i in [2, 3, 4, 5, 6, 7]:\n",
    "    '''\n",
    "    Create KMeans instance for different number of clusters\n",
    "    '''\n",
    "    km = KMeans(n_clusters=i, init='k-means++', n_init=10, max_iter=100, random_state=42)\n",
    "    q, mod = divmod(i, 2)\n",
    "    '''\n",
    "    Create SilhouetteVisualizer instance with KMeans instance\n",
    "    Fit the visualizer\n",
    "    '''\n",
    "    visualizer = SilhouetteVisualizer(km, colors='yellowbrick', ax=ax[q-1][mod])\n",
    "    visualizer.fit(pipe[\"preprocess\"].transform(df)) "
   ]
  },
  {
   "cell_type": "code",
   "execution_count": 158,
   "id": "a2f94553",
   "metadata": {},
   "outputs": [
    {
     "name": "stdout",
     "output_type": "stream",
     "text": [
      "0.5178061612639743\n"
     ]
    }
   ],
   "source": [
    "#Finding the silhouette score\n",
    "#newdf = newdf.drop(['label'], axis=1, errors='ignore')\n",
    "kmeans = KMeans(n_clusters = OptimalClusters, init='k-means++')\n",
    "\n",
    "pipe = Pipeline([('preprocess',preprocess_pipeline), ('kmeans',kmeans)])\n",
    "pipe.fit(df)\n",
    "\n",
    "preprocessed_data_pre = pipe[\"preprocess\"].transform(df)\n",
    "predicted_labels_pre = pipe[\"kmeans\"].labels_\n",
    "\n",
    "#print the silhouette score of this model (-1 to 1, 1 being highest)\n",
    "\n",
    "print(silhouette_score(preprocessed_data_pre, predicted_labels_pre, metric='euclidean'))"
   ]
  },
  {
   "cell_type": "code",
   "execution_count": 159,
   "id": "33c86d65",
   "metadata": {},
   "outputs": [],
   "source": [
    "#get labels\n",
    "\n",
    "df[\"label\"] = pipe[\"kmeans\"].labels_"
   ]
  },
  {
   "cell_type": "code",
   "execution_count": 160,
   "id": "c36060c2",
   "metadata": {},
   "outputs": [
    {
     "data": {
      "image/png": "[encoded data removed]",
      "text/plain": [
       "<Figure size 1512x720 with 1 Axes>"
      ]
     },
     "metadata": {},
     "output_type": "display_data"
    }
   ],
   "source": [
    "fig = plt.figure(figsize=(21,10))\n",
    "ax = fig.add_subplot(111, projection='3d')\n",
    "ax.scatter(df.Age[df.label == 0], df[\"Annual Income (k$)\"][df.label == 0], df[\"Spending Score (1-100)\"][df.label == 0], c='blue', s=60)\n",
    "\n",
    "ax.scatter(df.Age[df.label == 1], df[\"Annual Income (k$)\"][df.label == 1], df[\"Spending Score (1-100)\"][df.label == 1], c='red', s=60)\n",
    "ax.scatter(df.Age[df.label == 2], df[\"Annual Income (k$)\"][df.label == 2], df[\"Spending Score (1-100)\"][df.label == 2], c='green', s=60)\n",
    "ax.scatter(df.Age[df.label == 3], df[\"Annual Income (k$)\"][df.label == 3], df[\"Spending Score (1-100)\"][df.label == 3], c='orange', s=60)\n",
    "\n",
    "ax.view_init(30, 185)\n",
    "plt.show()"
   ]
  },
  {
   "cell_type": "code",
   "execution_count": 161,
   "id": "a073446b",
   "metadata": {},
   "outputs": [
    {
     "data": {
      "text/html": [
       "<div>\n",
       "<style scoped>\n",
       "    .dataframe tbody tr th:only-of-type {\n",
       "        vertical-align: middle;\n",
       "    }\n",
       "\n",
       "    .dataframe tbody tr th {\n",
       "        vertical-align: top;\n",
       "    }\n",
       "\n",
       "    .dataframe thead th {\n",
       "        text-align: right;\n",
       "    }\n",
       "</style>\n",
       "<table border=\"1\" class=\"dataframe\">\n",
       "  <thead>\n",
       "    <tr style=\"text-align: right;\">\n",
       "      <th></th>\n",
       "      <th>CustomerID</th>\n",
       "      <th>Gender</th>\n",
       "      <th>Age</th>\n",
       "      <th>Annual Income (k$)</th>\n",
       "      <th>Spending Score (1-100)</th>\n",
       "      <th>label</th>\n",
       "    </tr>\n",
       "  </thead>\n",
       "  <tbody>\n",
       "    <tr>\n",
       "      <th>0</th>\n",
       "      <td>1</td>\n",
       "      <td>1</td>\n",
       "      <td>19</td>\n",
       "      <td>15</td>\n",
       "      <td>39</td>\n",
       "      <td>0</td>\n",
       "    </tr>\n",
       "    <tr>\n",
       "      <th>1</th>\n",
       "      <td>2</td>\n",
       "      <td>1</td>\n",
       "      <td>21</td>\n",
       "      <td>15</td>\n",
       "      <td>81</td>\n",
       "      <td>2</td>\n",
       "    </tr>\n",
       "    <tr>\n",
       "      <th>2</th>\n",
       "      <td>3</td>\n",
       "      <td>0</td>\n",
       "      <td>20</td>\n",
       "      <td>16</td>\n",
       "      <td>6</td>\n",
       "      <td>3</td>\n",
       "    </tr>\n",
       "    <tr>\n",
       "      <th>3</th>\n",
       "      <td>4</td>\n",
       "      <td>0</td>\n",
       "      <td>23</td>\n",
       "      <td>16</td>\n",
       "      <td>77</td>\n",
       "      <td>2</td>\n",
       "    </tr>\n",
       "    <tr>\n",
       "      <th>4</th>\n",
       "      <td>5</td>\n",
       "      <td>0</td>\n",
       "      <td>31</td>\n",
       "      <td>17</td>\n",
       "      <td>40</td>\n",
       "      <td>1</td>\n",
       "    </tr>\n",
       "  </tbody>\n",
       "</table>\n",
       "</div>"
      ],
      "text/plain": [
       "   CustomerID  Gender  Age  Annual Income (k$)  Spending Score (1-100)  label\n",
       "0           1       1   19                  15                      39      0\n",
       "1           2       1   21                  15                      81      2\n",
       "2           3       0   20                  16                       6      3\n",
       "3           4       0   23                  16                      77      2\n",
       "4           5       0   31                  17                      40      1"
      ]
     },
     "execution_count": 161,
     "metadata": {},
     "output_type": "execute_result"
    }
   ],
   "source": [
    "df.head()"
   ]
  },
  {
   "cell_type": "code",
   "execution_count": 162,
   "id": "444d1031",
   "metadata": {},
   "outputs": [],
   "source": [
    "newdf = df.copy()\n",
    "newdf.drop('CustomerID', axis=1, inplace=True)\n",
    "newdf.drop('label', axis=1, inplace=True)"
   ]
  },
  {
   "cell_type": "code",
   "execution_count": 163,
   "id": "891b4664",
   "metadata": {},
   "outputs": [
    {
     "data": {
      "text/html": [
       "<div>\n",
       "<style scoped>\n",
       "    .dataframe tbody tr th:only-of-type {\n",
       "        vertical-align: middle;\n",
       "    }\n",
       "\n",
       "    .dataframe tbody tr th {\n",
       "        vertical-align: top;\n",
       "    }\n",
       "\n",
       "    .dataframe thead th {\n",
       "        text-align: right;\n",
       "    }\n",
       "</style>\n",
       "<table border=\"1\" class=\"dataframe\">\n",
       "  <thead>\n",
       "    <tr style=\"text-align: right;\">\n",
       "      <th></th>\n",
       "      <th>Gender</th>\n",
       "      <th>Age</th>\n",
       "      <th>Annual Income (k$)</th>\n",
       "      <th>Spending Score (1-100)</th>\n",
       "    </tr>\n",
       "  </thead>\n",
       "  <tbody>\n",
       "    <tr>\n",
       "      <th>0</th>\n",
       "      <td>1</td>\n",
       "      <td>19</td>\n",
       "      <td>15</td>\n",
       "      <td>39</td>\n",
       "    </tr>\n",
       "    <tr>\n",
       "      <th>1</th>\n",
       "      <td>1</td>\n",
       "      <td>21</td>\n",
       "      <td>15</td>\n",
       "      <td>81</td>\n",
       "    </tr>\n",
       "    <tr>\n",
       "      <th>2</th>\n",
       "      <td>0</td>\n",
       "      <td>20</td>\n",
       "      <td>16</td>\n",
       "      <td>6</td>\n",
       "    </tr>\n",
       "    <tr>\n",
       "      <th>3</th>\n",
       "      <td>0</td>\n",
       "      <td>23</td>\n",
       "      <td>16</td>\n",
       "      <td>77</td>\n",
       "    </tr>\n",
       "    <tr>\n",
       "      <th>4</th>\n",
       "      <td>0</td>\n",
       "      <td>31</td>\n",
       "      <td>17</td>\n",
       "      <td>40</td>\n",
       "    </tr>\n",
       "  </tbody>\n",
       "</table>\n",
       "</div>"
      ],
      "text/plain": [
       "   Gender  Age  Annual Income (k$)  Spending Score (1-100)\n",
       "0       1   19                  15                      39\n",
       "1       1   21                  15                      81\n",
       "2       0   20                  16                       6\n",
       "3       0   23                  16                      77\n",
       "4       0   31                  17                      40"
      ]
     },
     "execution_count": 163,
     "metadata": {},
     "output_type": "execute_result"
    }
   ],
   "source": [
    "newdf.head()"
   ]
  },
  {
   "cell_type": "code",
   "execution_count": 164,
   "id": "884559b2",
   "metadata": {},
   "outputs": [],
   "source": [
    "pca = PCA(n_components=2)\n",
    "\n",
    "preprocess_pipeline_pca = ColumnTransformer([\n",
    "    ('standardized', std_pipeline, ['Spending Score (1-100)','Annual Income (k$)', 'Age']),\n",
    "    ('categorical', cat_pipeline, ['Gender'])\n",
    "])\n",
    "\n",
    "fullpipe = Pipeline([('preprocess',preprocess_pipeline_pca),('pca',pca), ('kmeans',kmeans)])"
   ]
  },
  {
   "cell_type": "code",
   "execution_count": 165,
   "id": "926db6d5",
   "metadata": {},
   "outputs": [
    {
     "data": {
      "text/plain": [
       "Pipeline(steps=[('preprocess',\n",
       "                 ColumnTransformer(transformers=[('standardized',\n",
       "                                                  Pipeline(steps=[('impute',\n",
       "                                                                   KNNImputer()),\n",
       "                                                                  ('stdscale',\n",
       "                                                                   StandardScaler())]),\n",
       "                                                  ['Spending Score (1-100)',\n",
       "                                                   'Annual Income (k$)',\n",
       "                                                   'Age']),\n",
       "                                                 ('categorical',\n",
       "                                                  Pipeline(steps=[('impute',\n",
       "                                                                   IterativeImputer(estimator=RandomForestClassifier(),\n",
       "                                                                                    initial_strategy='most_frequent',\n",
       "                                                                                    random_state=0)),\n",
       "                                                                  ('OHE',\n",
       "                                                                   OneHotEncoder(drop='if_binary'))]),\n",
       "                                                  ['Gender'])])),\n",
       "                ('pca', PCA(n_components=2)),\n",
       "                ('kmeans', KMeans(n_clusters=4))])"
      ]
     },
     "execution_count": 165,
     "metadata": {},
     "output_type": "execute_result"
    }
   ],
   "source": [
    "fullpipe.fit(newdf)"
   ]
  },
  {
   "cell_type": "code",
   "execution_count": 166,
   "id": "003b96fb",
   "metadata": {},
   "outputs": [
    {
     "data": {
      "text/plain": [
       "2"
      ]
     },
     "execution_count": 166,
     "metadata": {},
     "output_type": "execute_result"
    }
   ],
   "source": [
    "fullpipe.steps[1][1].n_components_"
   ]
  },
  {
   "cell_type": "code",
   "execution_count": 167,
   "id": "6de12228",
   "metadata": {},
   "outputs": [
    {
     "data": {
      "text/plain": [
       "([<matplotlib.axis.XTick at 0x257be532d30>,\n",
       "  <matplotlib.axis.XTick at 0x257be532af0>],\n",
       " [Text(0, 0, ''), Text(0, 0, '')])"
      ]
     },
     "execution_count": 167,
     "metadata": {},
     "output_type": "execute_result"
    },
    {
     "data": {
      "image/png": "[encoded data removed]",
      "text/plain": [
       "<Figure size 576x396 with 1 Axes>"
      ]
     },
     "metadata": {},
     "output_type": "display_data"
    }
   ],
   "source": [
    "features = range(fullpipe.steps[1][1].n_components_)\n",
    "plt.bar(features, pca.explained_variance_ratio_, color='black')\n",
    "plt.xlabel('PCA features')\n",
    "plt.ylabel('variance %')\n",
    "plt.xticks(features)\n"
   ]
  },
  {
   "cell_type": "code",
   "execution_count": 168,
   "id": "5215c902",
   "metadata": {},
   "outputs": [
    {
     "name": "stderr",
     "output_type": "stream",
     "text": [
      "C:\\Users\\mdelan02\\Anaconda3\\lib\\site-packages\\sklearn\\cluster\\_kmeans.py:1036: UserWarning: KMeans is known to have a memory leak on Windows with MKL, when there are less chunks than available threads. You can avoid it by setting the environment variable OMP_NUM_THREADS=1.\n",
      "  warnings.warn(\n"
     ]
    },
    {
     "data": {
      "image/png": "[encoded data removed]",
      "text/plain": [
       "<Figure size 576x396 with 1 Axes>"
      ]
     },
     "metadata": {},
     "output_type": "display_data"
    }
   ],
   "source": [
    "ks = range(1, 10)\n",
    "inertias = []\n",
    "\n",
    "for k in ks:\n",
    "    kmeans = KMeans(n_clusters = k, init='k-means++')\n",
    "    fullpipe = Pipeline([('preprocess',preprocess_pipeline_pca),('pca',pca), ('kmeans',kmeans)])\n",
    "    fullpipe.fit(df)\n",
    "    inertias.append(kmeans.inertia_)\n",
    "\n",
    "frame = pd.DataFrame({'Cluster':range(1,10), 'Inertia':inertias})\n",
    "plt.plot(ks, inertias, '-o', color='black')\n",
    "plt.xlabel('number of clusters, k')\n",
    "plt.ylabel('inertia')\n",
    "plt.xticks(ks)\n",
    "plt.show()"
   ]
  },
  {
   "cell_type": "code",
   "execution_count": 169,
   "id": "e4e7330d",
   "metadata": {},
   "outputs": [
    {
     "name": "stdout",
     "output_type": "stream",
     "text": [
      "4\n"
     ]
    }
   ],
   "source": [
    "kneecheck = KneeLocator(frame['Cluster'],frame['Inertia'],curve ='convex',direction='decreasing')\n",
    "\n",
    "OptimalClusters = kneecheck.knee\n",
    "print(OptimalClusters)"
   ]
  },
  {
   "cell_type": "code",
   "execution_count": 170,
   "id": "9aa6c9ea",
   "metadata": {},
   "outputs": [
    {
     "data": {
      "text/plain": [
       "Pipeline(steps=[('preprocess',\n",
       "                 ColumnTransformer(transformers=[('standardized',\n",
       "                                                  Pipeline(steps=[('impute',\n",
       "                                                                   KNNImputer()),\n",
       "                                                                  ('stdscale',\n",
       "                                                                   StandardScaler())]),\n",
       "                                                  ['Spending Score (1-100)',\n",
       "                                                   'Annual Income (k$)',\n",
       "                                                   'Age']),\n",
       "                                                 ('categorical',\n",
       "                                                  Pipeline(steps=[('impute',\n",
       "                                                                   IterativeImputer(estimator=RandomForestClassifier(),\n",
       "                                                                                    initial_strategy='most_frequent',\n",
       "                                                                                    random_state=0)),\n",
       "                                                                  ('OHE',\n",
       "                                                                   OneHotEncoder(drop='if_binary'))]),\n",
       "                                                  ['Gender'])])),\n",
       "                ('pca', PCA(n_components=2)),\n",
       "                ('kmeans', KMeans(n_clusters=4))])"
      ]
     },
     "execution_count": 170,
     "metadata": {},
     "output_type": "execute_result"
    }
   ],
   "source": [
    "kmeans = KMeans(n_clusters = OptimalClusters, init='k-means++')\n",
    "fullpipe = Pipeline([('preprocess',preprocess_pipeline_pca),('pca',pca), ('kmeans',kmeans)])\n",
    "fullpipe.fit(newdf)"
   ]
  },
  {
   "cell_type": "code",
   "execution_count": 171,
   "id": "a544f31f",
   "metadata": {},
   "outputs": [
    {
     "name": "stdout",
     "output_type": "stream",
     "text": [
      "PCA Cluster Silhouette Score           :  0.4217762265394878\n",
      "Processing PCA Cluster Silhouette Score:  0.31292313363118696\n",
      "Processing Cluster Silhouette Score    :  0.5178061612639743\n"
     ]
    }
   ],
   "source": [
    "preprocessed_data = fullpipe[\"preprocess\"].transform(newdf) #fullpipe.transform(newdf)\n",
    "pca_data = fullpipe['pca'].transform(preprocessed_data)\n",
    "predicted_labels2 = fullpipe[\"kmeans\"].labels_\n",
    "\n",
    "# silhouette score\n",
    "print(\"PCA Cluster Silhouette Score           : \", silhouette_score(pca_data, predicted_labels2, metric='euclidean'))\n",
    "print(\"Processing PCA Cluster Silhouette Score: \", silhouette_score(preprocessed_data, predicted_labels2, metric='euclidean')) \n",
    "print(\"Processing Cluster Silhouette Score    : \", silhouette_score(preprocessed_data_pre, predicted_labels_pre, metric='euclidean')) "
   ]
  },
  {
   "cell_type": "code",
   "execution_count": 172,
   "id": "96075b7e",
   "metadata": {},
   "outputs": [],
   "source": [
    "#PCA resulted in very little info gain\n"
   ]
  },
  {
   "cell_type": "code",
   "execution_count": 173,
   "id": "e504c269",
   "metadata": {},
   "outputs": [
    {
     "data": {
      "text/html": [
       "<div>\n",
       "<style scoped>\n",
       "    .dataframe tbody tr th:only-of-type {\n",
       "        vertical-align: middle;\n",
       "    }\n",
       "\n",
       "    .dataframe tbody tr th {\n",
       "        vertical-align: top;\n",
       "    }\n",
       "\n",
       "    .dataframe thead th {\n",
       "        text-align: right;\n",
       "    }\n",
       "</style>\n",
       "<table border=\"1\" class=\"dataframe\">\n",
       "  <thead>\n",
       "    <tr style=\"text-align: right;\">\n",
       "      <th></th>\n",
       "      <th>Gender</th>\n",
       "      <th>Age</th>\n",
       "      <th>Annual Income (k$)</th>\n",
       "      <th>Spending Score (1-100)</th>\n",
       "      <th>cluster</th>\n",
       "    </tr>\n",
       "  </thead>\n",
       "  <tbody>\n",
       "    <tr>\n",
       "      <th>0</th>\n",
       "      <td>Male</td>\n",
       "      <td>19</td>\n",
       "      <td>15</td>\n",
       "      <td>39</td>\n",
       "      <td>0</td>\n",
       "    </tr>\n",
       "    <tr>\n",
       "      <th>1</th>\n",
       "      <td>Male</td>\n",
       "      <td>21</td>\n",
       "      <td>15</td>\n",
       "      <td>81</td>\n",
       "      <td>2</td>\n",
       "    </tr>\n",
       "    <tr>\n",
       "      <th>2</th>\n",
       "      <td>Female</td>\n",
       "      <td>20</td>\n",
       "      <td>16</td>\n",
       "      <td>6</td>\n",
       "      <td>3</td>\n",
       "    </tr>\n",
       "    <tr>\n",
       "      <th>3</th>\n",
       "      <td>Female</td>\n",
       "      <td>23</td>\n",
       "      <td>16</td>\n",
       "      <td>77</td>\n",
       "      <td>2</td>\n",
       "    </tr>\n",
       "    <tr>\n",
       "      <th>4</th>\n",
       "      <td>Female</td>\n",
       "      <td>31</td>\n",
       "      <td>17</td>\n",
       "      <td>40</td>\n",
       "      <td>1</td>\n",
       "    </tr>\n",
       "  </tbody>\n",
       "</table>\n",
       "</div>"
      ],
      "text/plain": [
       "   Gender  Age  Annual Income (k$)  Spending Score (1-100)  cluster\n",
       "0    Male   19                  15                      39        0\n",
       "1    Male   21                  15                      81        2\n",
       "2  Female   20                  16                       6        3\n",
       "3  Female   23                  16                      77        2\n",
       "4  Female   31                  17                      40        1"
      ]
     },
     "execution_count": 173,
     "metadata": {},
     "output_type": "execute_result"
    }
   ],
   "source": [
    "#mapping clusters back to the dataset\n",
    "\n",
    "df = pd.read_csv('Mall_Customers.csv')\n",
    "df = df.drop(['CustomerID'],axis=1)\n",
    "\n",
    "frame = pd.DataFrame(df)\n",
    "frame['cluster'] = predicted_labels_pre\n",
    "frame.head()"
   ]
  },
  {
   "cell_type": "code",
   "execution_count": 174,
   "id": "c4e38ff5",
   "metadata": {},
   "outputs": [
    {
     "data": {
      "text/html": [
       "<div>\n",
       "<style scoped>\n",
       "    .dataframe tbody tr th:only-of-type {\n",
       "        vertical-align: middle;\n",
       "    }\n",
       "\n",
       "    .dataframe tbody tr th {\n",
       "        vertical-align: top;\n",
       "    }\n",
       "\n",
       "    .dataframe thead th {\n",
       "        text-align: right;\n",
       "    }\n",
       "</style>\n",
       "<table border=\"1\" class=\"dataframe\">\n",
       "  <thead>\n",
       "    <tr style=\"text-align: right;\">\n",
       "      <th></th>\n",
       "      <th>cluster</th>\n",
       "      <th>Age</th>\n",
       "      <th>Annual Income (k$)</th>\n",
       "      <th>Spending Score (1-100)</th>\n",
       "    </tr>\n",
       "  </thead>\n",
       "  <tbody>\n",
       "    <tr>\n",
       "      <th>0</th>\n",
       "      <td>0</td>\n",
       "      <td>42.595238</td>\n",
       "      <td>54.809524</td>\n",
       "      <td>50.761905</td>\n",
       "    </tr>\n",
       "    <tr>\n",
       "      <th>1</th>\n",
       "      <td>1</td>\n",
       "      <td>40.741935</td>\n",
       "      <td>55.854839</td>\n",
       "      <td>45.709677</td>\n",
       "    </tr>\n",
       "    <tr>\n",
       "      <th>2</th>\n",
       "      <td>2</td>\n",
       "      <td>30.272727</td>\n",
       "      <td>65.036364</td>\n",
       "      <td>82.854545</td>\n",
       "    </tr>\n",
       "    <tr>\n",
       "      <th>3</th>\n",
       "      <td>3</td>\n",
       "      <td>43.658537</td>\n",
       "      <td>67.560976</td>\n",
       "      <td>12.609756</td>\n",
       "    </tr>\n",
       "  </tbody>\n",
       "</table>\n",
       "</div>"
      ],
      "text/plain": [
       "   cluster        Age  Annual Income (k$)  Spending Score (1-100)\n",
       "0        0  42.595238           54.809524               50.761905\n",
       "1        1  40.741935           55.854839               45.709677\n",
       "2        2  30.272727           65.036364               82.854545\n",
       "3        3  43.658537           67.560976               12.609756"
      ]
     },
     "execution_count": 174,
     "metadata": {},
     "output_type": "execute_result"
    }
   ],
   "source": [
    "avg_df = df.groupby(['cluster'], as_index=False).mean()\n",
    "avg_df"
   ]
  },
  {
   "cell_type": "code",
   "execution_count": 175,
   "id": "d5330390",
   "metadata": {},
   "outputs": [
    {
     "data": {
      "text/plain": [
       "<AxesSubplot:xlabel='cluster', ylabel='Annual Income (k$)'>"
      ]
     },
     "execution_count": 175,
     "metadata": {},
     "output_type": "execute_result"
    },
    {
     "data": {
      "image/png": "[encoded data removed]",
      "text/plain": [
       "<Figure size 576x396 with 1 Axes>"
      ]
     },
     "metadata": {},
     "output_type": "display_data"
    }
   ],
   "source": [
    "sns.barplot(x='cluster',y='Age',data=avg_df)\n",
    "sns.barplot(x='cluster',y='Spending Score (1-100)',data=avg_df)\n",
    "sns.barplot(x='cluster',y='Annual Income (k$)',data=avg_df)"
   ]
  },
  {
   "cell_type": "code",
   "execution_count": 176,
   "id": "eed7b882",
   "metadata": {},
   "outputs": [
    {
     "data": {
      "text/html": [
       "<div>\n",
       "<style scoped>\n",
       "    .dataframe tbody tr th:only-of-type {\n",
       "        vertical-align: middle;\n",
       "    }\n",
       "\n",
       "    .dataframe tbody tr th {\n",
       "        vertical-align: top;\n",
       "    }\n",
       "\n",
       "    .dataframe thead th {\n",
       "        text-align: right;\n",
       "    }\n",
       "</style>\n",
       "<table border=\"1\" class=\"dataframe\">\n",
       "  <thead>\n",
       "    <tr style=\"text-align: right;\">\n",
       "      <th></th>\n",
       "      <th></th>\n",
       "      <th>Gender</th>\n",
       "    </tr>\n",
       "    <tr>\n",
       "      <th>cluster</th>\n",
       "      <th>Gender</th>\n",
       "      <th></th>\n",
       "    </tr>\n",
       "  </thead>\n",
       "  <tbody>\n",
       "    <tr>\n",
       "      <th>0</th>\n",
       "      <th>Male</th>\n",
       "      <td>42</td>\n",
       "    </tr>\n",
       "    <tr>\n",
       "      <th>1</th>\n",
       "      <th>Female</th>\n",
       "      <td>62</td>\n",
       "    </tr>\n",
       "    <tr>\n",
       "      <th rowspan=\"2\" valign=\"top\">2</th>\n",
       "      <th>Female</th>\n",
       "      <td>33</td>\n",
       "    </tr>\n",
       "    <tr>\n",
       "      <th>Male</th>\n",
       "      <td>22</td>\n",
       "    </tr>\n",
       "    <tr>\n",
       "      <th>3</th>\n",
       "      <th>Female</th>\n",
       "      <td>17</td>\n",
       "    </tr>\n",
       "  </tbody>\n",
       "</table>\n",
       "</div>"
      ],
      "text/plain": [
       "                Gender\n",
       "cluster Gender        \n",
       "0       Male        42\n",
       "1       Female      62\n",
       "2       Female      33\n",
       "        Male        22\n",
       "3       Female      17"
      ]
     },
     "execution_count": 176,
     "metadata": {},
     "output_type": "execute_result"
    }
   ],
   "source": [
    "df2 = pd.DataFrame(df.groupby(['cluster','Gender'])['Gender'].count())\n",
    "df2.head()"
   ]
  },
  {
   "cell_type": "code",
   "execution_count": 177,
   "id": "bf1d1faf",
   "metadata": {},
   "outputs": [
    {
     "data": {
      "text/plain": [
       "\"\\nKNN is a descriptive measure. For us to use this for persona's we take graphs of the variables in we see in the custers\\nthen describe them. Why are we stopping the math and letting humans take over? This also seems like it would fail on clusters\\nwith higher dimensionality.\\n\\nCan we determine what features make a cluster important mathematically and use that to describe it?\\n\""
      ]
     },
     "execution_count": 177,
     "metadata": {},
     "output_type": "execute_result"
    }
   ],
   "source": [
    "'''\n",
    "KNN is a descriptive measure. For us to use this for persona's we take graphs of the variables in we see in the custers\n",
    "then describe them. Why are we stopping the math and letting humans take over? This also seems like it would fail on clusters\n",
    "with higher dimensionality.\n",
    "\n",
    "Can we determine what features make a cluster important mathematically and use that to describe it?\n",
    "'''"
   ]
  },
  {
   "cell_type": "code",
   "execution_count": null,
   "id": "7f771677",
   "metadata": {},
   "outputs": [],
   "source": []
  },
  {
   "cell_type": "code",
   "execution_count": 178,
   "id": "bf8445a3",
   "metadata": {},
   "outputs": [],
   "source": [
    "numClusters = len(set(frame['cluster']))\n",
    "\n",
    "frame[categ] = frame[categ].apply(le.fit_transform)"
   ]
  },
  {
   "cell_type": "code",
   "execution_count": 179,
   "id": "e0e4ba0f",
   "metadata": {},
   "outputs": [
    {
     "data": {
      "text/html": [
       "<div>\n",
       "<style scoped>\n",
       "    .dataframe tbody tr th:only-of-type {\n",
       "        vertical-align: middle;\n",
       "    }\n",
       "\n",
       "    .dataframe tbody tr th {\n",
       "        vertical-align: top;\n",
       "    }\n",
       "\n",
       "    .dataframe thead th {\n",
       "        text-align: right;\n",
       "    }\n",
       "</style>\n",
       "<table border=\"1\" class=\"dataframe\">\n",
       "  <thead>\n",
       "    <tr style=\"text-align: right;\">\n",
       "      <th></th>\n",
       "      <th>Gender</th>\n",
       "      <th>Age</th>\n",
       "      <th>Annual Income (k$)</th>\n",
       "      <th>Spending Score (1-100)</th>\n",
       "      <th>cluster</th>\n",
       "    </tr>\n",
       "  </thead>\n",
       "  <tbody>\n",
       "    <tr>\n",
       "      <th>0</th>\n",
       "      <td>1</td>\n",
       "      <td>19</td>\n",
       "      <td>15</td>\n",
       "      <td>39</td>\n",
       "      <td>0</td>\n",
       "    </tr>\n",
       "    <tr>\n",
       "      <th>1</th>\n",
       "      <td>1</td>\n",
       "      <td>21</td>\n",
       "      <td>15</td>\n",
       "      <td>81</td>\n",
       "      <td>2</td>\n",
       "    </tr>\n",
       "    <tr>\n",
       "      <th>2</th>\n",
       "      <td>0</td>\n",
       "      <td>20</td>\n",
       "      <td>16</td>\n",
       "      <td>6</td>\n",
       "      <td>3</td>\n",
       "    </tr>\n",
       "    <tr>\n",
       "      <th>3</th>\n",
       "      <td>0</td>\n",
       "      <td>23</td>\n",
       "      <td>16</td>\n",
       "      <td>77</td>\n",
       "      <td>2</td>\n",
       "    </tr>\n",
       "    <tr>\n",
       "      <th>4</th>\n",
       "      <td>0</td>\n",
       "      <td>31</td>\n",
       "      <td>17</td>\n",
       "      <td>40</td>\n",
       "      <td>1</td>\n",
       "    </tr>\n",
       "  </tbody>\n",
       "</table>\n",
       "</div>"
      ],
      "text/plain": [
       "   Gender  Age  Annual Income (k$)  Spending Score (1-100)  cluster\n",
       "0       1   19                  15                      39        0\n",
       "1       1   21                  15                      81        2\n",
       "2       0   20                  16                       6        3\n",
       "3       0   23                  16                      77        2\n",
       "4       0   31                  17                      40        1"
      ]
     },
     "execution_count": 179,
     "metadata": {},
     "output_type": "execute_result"
    }
   ],
   "source": [
    "frame.head()"
   ]
  },
  {
   "cell_type": "code",
   "execution_count": 180,
   "id": "eb276558",
   "metadata": {},
   "outputs": [],
   "source": [
    "clusterList = []\n",
    "for i in range(numClusters):\n",
    "    df = frame.copy()\n",
    "    df['orig_cluster'] = df['cluster']\n",
    "    clusterList.append(df)"
   ]
  },
  {
   "cell_type": "code",
   "execution_count": 181,
   "id": "a70388ad",
   "metadata": {},
   "outputs": [],
   "source": [
    "for n,j in enumerate(clusterList):\n",
    "    j.loc[j['cluster'] != n, 'cluster'] = numClusters\n",
    "    j.loc[j['cluster'] == n, 'cluster'] = 1\n",
    "    j.loc[j['cluster'] == numClusters, 'cluster'] = 0"
   ]
  },
  {
   "cell_type": "code",
   "execution_count": 182,
   "id": "a4842969",
   "metadata": {},
   "outputs": [],
   "source": [
    "rf_clf = RandomForestClassifier()"
   ]
  },
  {
   "cell_type": "code",
   "execution_count": 183,
   "id": "32c739c8",
   "metadata": {},
   "outputs": [],
   "source": [
    "rfPipe = Pipeline([('preprocess',preprocess_pipeline), ('rf',rf_clf)])\n",
    "col_names = ['Annual Income (k$)', 'Age', 'Spending Score (1-100)', 'Gender']"
   ]
  },
  {
   "cell_type": "code",
   "execution_count": 184,
   "id": "34604868",
   "metadata": {},
   "outputs": [],
   "source": [
    "clusterDescDict = {}\n",
    "\n",
    "for n,j in enumerate(clusterList):\n",
    "    rfPipe.fit(j,j['cluster'])\n",
    "    \n",
    "    # Index sort the most important features\n",
    "    sorted_feature_weight_idxes = np.argsort(rfPipe['rf'].feature_importances_)[::-1] # Reverse sort\n",
    "    \n",
    "    #Get the most important features and weights\n",
    "    most_important_features = np.take_along_axis(\n",
    "    np.array(col_names), \n",
    "    sorted_feature_weight_idxes, axis=0)\n",
    "    \n",
    "    most_important_weights = np.take_along_axis(\n",
    "    np.array(rfPipe['rf'].feature_importances_), \n",
    "    sorted_feature_weight_idxes, axis=0)\n",
    "    \n",
    "    # Show\n",
    "    clusterDescDict[n] = list(zip(most_important_features, most_important_weights))"
   ]
  },
  {
   "cell_type": "code",
   "execution_count": 189,
   "id": "945ce82a",
   "metadata": {},
   "outputs": [
    {
     "name": "stdout",
     "output_type": "stream",
     "text": [
      "Cluster  0 : \n",
      "[('Spending Score (1-100)', 0.4132989336708913), ('Gender', 0.393005611601632), ('Annual Income (k$)', 0.1040986280194456), ('Age', 0.08959682670803114)]\n",
      "Cluster  1 : \n",
      "[('Spending Score (1-100)', 0.4631555339082509), ('Gender', 0.4076937427621669), ('Age', 0.0699443860883367), ('Annual Income (k$)', 0.05920633724124541)]\n",
      "Cluster  2 : \n",
      "[('Spending Score (1-100)', 0.876498514196759), ('Annual Income (k$)', 0.06358873145056153), ('Age', 0.0557237719493229), ('Gender', 0.0041889824033566276)]\n",
      "Cluster  3 : \n",
      "[('Spending Score (1-100)', 0.8409440076600373), ('Age', 0.08980032274113708), ('Annual Income (k$)', 0.0634512154009846), ('Gender', 0.00580445419784111)]\n"
     ]
    }
   ],
   "source": [
    "for i in range(len(clusterDescDict)):\n",
    "    print('Cluster ',i,': ')\n",
    "    print(clusterDescDict[i])"
   ]
  },
  {
   "cell_type": "code",
   "execution_count": null,
   "id": "b317830c",
   "metadata": {},
   "outputs": [],
   "source": []
  },
  {
   "cell_type": "code",
   "execution_count": null,
   "id": "82aaaaff",
   "metadata": {},
   "outputs": [],
   "source": []
  }
 ],
 "metadata": {
  "kernelspec": {
   "display_name": "Python 3 (ipykernel)",
   "language": "python",
   "name": "python3"
  },
  "language_info": {
   "codemirror_mode": {
    "name": "ipython",
    "version": 3
   },
   "file_extension": ".py",
   "mimetype": "text/x-python",
   "name": "python",
   "nbconvert_exporter": "python",
   "pygments_lexer": "ipython3",
   "version": "3.9.7"
  }
 },
 "nbformat": 4,
 "nbformat_minor": 5
}
